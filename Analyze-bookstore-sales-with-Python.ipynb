{
 "cells": [
  {
   "cell_type": "markdown",
   "id": "f8b22c1d",
   "metadata": {},
   "source": [
    "# Analyze bookstore sales with Python"
   ]
  },
  {
   "cell_type": "markdown",
   "id": "e0e867f8",
   "metadata": {},
   "source": [
    " "
   ]
  },
  {
   "cell_type": "markdown",
   "id": "2f514382",
   "metadata": {},
   "source": [
    "My mission here for Lapage is to analyse the strengths, weaknesses and customer behavior of Lapage.\n",
    "\n",
    "I was also asked to ...\n",
    " <br></br>\n",
    " \n",
    "<u> Summary</u> :\n",
    "\n",
    " Tools [(here)](#another_cell_0)\n",
    "\n",
    " I. Explore and clean <a href=\"https://github.com/donia-nefiz/Analyze-bookstore-sales-with-Python\" target=\"_blank\">Lapage data</a>\n",
    "     <br>*1. [customers.csv](http://localhost:8888/edit/customers.csv) : exploration and data cleaning [(here)](#another_cell_a)*</br>\n",
    "     <br>*2. [products.csv](http://localhost:8888/edit/products.csv) : exploration and data cleaning [(here)](#another_cell_b)*</br>\n",
    "     <br>*3. [transactions.csv](http://localhost:8888/edit/transactions.csv) : exploration and data cleaning [(here)](#another_cell_c)</br>*\n",
    "     <br>*4. Merge Lapage dataframes, explore and clean [(here)](#another_cell_d)</br>*\n",
    "\n",
    "\n",
    "II. Sales indicators analysis\n",
    "    <br>*1. Total sales</br>*\n",
    "    <br>*-- a. Total sales by product category [(here)](#another_cell_e)</br>*\n",
    "    <br>*-- b. Total sales by age group [(here)](#another_cell_f)</br>*\n",
    "    <br>*-- c. Total sales by period [(here)](#another_cell_g)</br>*\n",
    "    <br>*2. ...</br>*\n",
    "    <br>*-- a. ... [(here)](#another_cell_i)</br>*\n",
    "    <br>*-- b. ... [(here)](#another_cell_j)</br>*\n",
    "<br></br>   "
   ]
  },
  {
   "cell_type": "markdown",
   "id": "a8dc4e3a",
   "metadata": {},
   "source": [
    " "
   ]
  },
  {
   "cell_type": "markdown",
   "id": "aa3a3a62",
   "metadata": {},
   "source": [
    "## I. Lapage data, files exploration and data cleaning"
   ]
  },
  {
   "cell_type": "markdown",
   "id": "13c29f24",
   "metadata": {},
   "source": [
    "<a id='another_cell_0'></a>"
   ]
  },
  {
   "cell_type": "markdown",
   "id": "3cb10302",
   "metadata": {},
   "source": [
    "### Tools"
   ]
  },
  {
   "cell_type": "code",
   "execution_count": 1,
   "id": "95056797",
   "metadata": {},
   "outputs": [],
   "source": [
    "import numpy as np\n",
    "import pandas as pd\n",
    "import matplotlib.pyplot as plt\n",
    "import datetime as dt\n",
    "import seaborn as sns\n",
    "import warnings"
   ]
  },
  {
   "cell_type": "code",
   "execution_count": 2,
   "id": "c7e130c3",
   "metadata": {},
   "outputs": [],
   "source": [
    "#Check null values function :\n",
    "def check_nan(data, column):\n",
    "    if len(data[data[column].isnull()]) == 0:\n",
    "        print (\"The column\", column, \"does not contain any missing values\")\n",
    "    else :\n",
    "        print(\"The column\", column, \"contain \", len(data[data[column].isnull()]), \" missing values\")"
   ]
  },
  {
   "cell_type": "code",
   "execution_count": 3,
   "id": "9378449d",
   "metadata": {},
   "outputs": [],
   "source": [
    "#Check duplicates function :\n",
    "def check_duplicates(data, column):\n",
    "    n = len(data.index)\n",
    "    if len(data[column].drop_duplicates()) == n :\n",
    "        print (\"The column\", column, \"does not contain duplicates\")\n",
    "    else :\n",
    "        print(\"The column\", column, \"contains \", len(data[data[column].duplicated()]), \" duplicates.\")\n",
    "        return data[data[column].duplicated()]"
   ]
  },
  {
   "cell_type": "markdown",
   "id": "654360da",
   "metadata": {},
   "source": [
    "<a id='another_cell_a'></a>"
   ]
  },
  {
   "cell_type": "markdown",
   "id": "fd6b24bd",
   "metadata": {},
   "source": [
    "### 1. [customers.csv](http://localhost:8888/edit/customers.csv) : exploration and data cleaning"
   ]
  },
  {
   "cell_type": "markdown",
   "id": "a0f710aa",
   "metadata": {},
   "source": [
    "- Loading file:"
   ]
  },
  {
   "cell_type": "code",
   "execution_count": 4,
   "id": "045b66e5",
   "metadata": {},
   "outputs": [],
   "source": [
    "customers = pd.read_csv('customers.csv', sep=';')"
   ]
  },
  {
   "cell_type": "markdown",
   "id": "1442e77f",
   "metadata": {},
   "source": [
    "- First 5 rows display :"
   ]
  },
  {
   "cell_type": "code",
   "execution_count": 5,
   "id": "49a5be12",
   "metadata": {},
   "outputs": [
    {
     "data": {
      "text/html": [
       "<div>\n",
       "<style scoped>\n",
       "    .dataframe tbody tr th:only-of-type {\n",
       "        vertical-align: middle;\n",
       "    }\n",
       "\n",
       "    .dataframe tbody tr th {\n",
       "        vertical-align: top;\n",
       "    }\n",
       "\n",
       "    .dataframe thead th {\n",
       "        text-align: right;\n",
       "    }\n",
       "</style>\n",
       "<table border=\"1\" class=\"dataframe\">\n",
       "  <thead>\n",
       "    <tr style=\"text-align: right;\">\n",
       "      <th></th>\n",
       "      <th>client_id</th>\n",
       "      <th>sex</th>\n",
       "      <th>birth</th>\n",
       "    </tr>\n",
       "  </thead>\n",
       "  <tbody>\n",
       "    <tr>\n",
       "      <th>0</th>\n",
       "      <td>c_4410</td>\n",
       "      <td>f</td>\n",
       "      <td>1967</td>\n",
       "    </tr>\n",
       "    <tr>\n",
       "      <th>1</th>\n",
       "      <td>c_7839</td>\n",
       "      <td>f</td>\n",
       "      <td>1975</td>\n",
       "    </tr>\n",
       "    <tr>\n",
       "      <th>2</th>\n",
       "      <td>c_1699</td>\n",
       "      <td>f</td>\n",
       "      <td>1984</td>\n",
       "    </tr>\n",
       "    <tr>\n",
       "      <th>3</th>\n",
       "      <td>c_5961</td>\n",
       "      <td>f</td>\n",
       "      <td>1962</td>\n",
       "    </tr>\n",
       "    <tr>\n",
       "      <th>4</th>\n",
       "      <td>c_5320</td>\n",
       "      <td>m</td>\n",
       "      <td>1943</td>\n",
       "    </tr>\n",
       "  </tbody>\n",
       "</table>\n",
       "</div>"
      ],
      "text/plain": [
       "  client_id sex  birth\n",
       "0    c_4410   f   1967\n",
       "1    c_7839   f   1975\n",
       "2    c_1699   f   1984\n",
       "3    c_5961   f   1962\n",
       "4    c_5320   m   1943"
      ]
     },
     "execution_count": 5,
     "metadata": {},
     "output_type": "execute_result"
    }
   ],
   "source": [
    "customers.head()"
   ]
  },
  {
   "cell_type": "markdown",
   "id": "ff790a4c",
   "metadata": {},
   "source": [
    "- Number of rows and columns :"
   ]
  },
  {
   "cell_type": "code",
   "execution_count": 6,
   "id": "7b00a5ae",
   "metadata": {},
   "outputs": [
    {
     "data": {
      "text/plain": [
       "(8623, 3)"
      ]
     },
     "execution_count": 6,
     "metadata": {},
     "output_type": "execute_result"
    }
   ],
   "source": [
    "customers.shape"
   ]
  },
  {
   "cell_type": "markdown",
   "id": "f8ed62a1",
   "metadata": {},
   "source": [
    "- .info display :"
   ]
  },
  {
   "cell_type": "code",
   "execution_count": 7,
   "id": "9e58bc0e",
   "metadata": {},
   "outputs": [
    {
     "name": "stdout",
     "output_type": "stream",
     "text": [
      "<class 'pandas.core.frame.DataFrame'>\n",
      "RangeIndex: 8623 entries, 0 to 8622\n",
      "Data columns (total 3 columns):\n",
      " #   Column     Non-Null Count  Dtype \n",
      "---  ------     --------------  ----- \n",
      " 0   client_id  8623 non-null   object\n",
      " 1   sex        8623 non-null   object\n",
      " 2   birth      8623 non-null   int64 \n",
      "dtypes: int64(1), object(2)\n",
      "memory usage: 202.2+ KB\n"
     ]
    }
   ],
   "source": [
    "customers.info()"
   ]
  },
  {
   "cell_type": "markdown",
   "id": "f3361282",
   "metadata": {},
   "source": [
    "- Check null and duplicates values :"
   ]
  },
  {
   "cell_type": "code",
   "execution_count": 8,
   "id": "af61d864",
   "metadata": {},
   "outputs": [
    {
     "name": "stdout",
     "output_type": "stream",
     "text": [
      "The column client_id does not contain any missing values\n",
      "The column client_id does not contain duplicates\n"
     ]
    }
   ],
   "source": [
    "check_nan(customers, \"client_id\")\n",
    "check_duplicates(customers, \"client_id\")"
   ]
  },
  {
   "cell_type": "markdown",
   "id": "42d502ef",
   "metadata": {},
   "source": [
    "<div class=\"alert-success\">\n",
    "    <u>Notice</u> :\n",
    "<i><br><li> Customers data give information on Lapage clients : their id (primary key), sex and year of birth</br></li>\n",
    "<li> There are 8623 online customers over the past two years</li>\n",
    "<li> The data file does not contain any missing value or duplicates</li>\n",
    "<li> The primary key 'client_id' seems to start with c_xxxx</li>\n",
    "</i></div>"
   ]
  },
  {
   "cell_type": "markdown",
   "id": "f817e413",
   "metadata": {},
   "source": [
    "- Check client ids format :"
   ]
  },
  {
   "cell_type": "code",
   "execution_count": 9,
   "id": "146853a0",
   "metadata": {},
   "outputs": [
    {
     "data": {
      "text/html": [
       "<div>\n",
       "<style scoped>\n",
       "    .dataframe tbody tr th:only-of-type {\n",
       "        vertical-align: middle;\n",
       "    }\n",
       "\n",
       "    .dataframe tbody tr th {\n",
       "        vertical-align: top;\n",
       "    }\n",
       "\n",
       "    .dataframe thead th {\n",
       "        text-align: right;\n",
       "    }\n",
       "</style>\n",
       "<table border=\"1\" class=\"dataframe\">\n",
       "  <thead>\n",
       "    <tr style=\"text-align: right;\">\n",
       "      <th></th>\n",
       "      <th>client_id</th>\n",
       "      <th>sex</th>\n",
       "      <th>birth</th>\n",
       "    </tr>\n",
       "  </thead>\n",
       "  <tbody>\n",
       "    <tr>\n",
       "      <th>2735</th>\n",
       "      <td>ct_0</td>\n",
       "      <td>f</td>\n",
       "      <td>2001</td>\n",
       "    </tr>\n",
       "    <tr>\n",
       "      <th>8494</th>\n",
       "      <td>ct_1</td>\n",
       "      <td>m</td>\n",
       "      <td>2001</td>\n",
       "    </tr>\n",
       "  </tbody>\n",
       "</table>\n",
       "</div>"
      ],
      "text/plain": [
       "     client_id sex  birth\n",
       "2735      ct_0   f   2001\n",
       "8494      ct_1   m   2001"
      ]
     },
     "execution_count": 9,
     "metadata": {},
     "output_type": "execute_result"
    }
   ],
   "source": [
    "customers[~customers[\"client_id\"].str.startswith(\"c_\")]"
   ]
  },
  {
   "cell_type": "markdown",
   "id": "7c7b6eb5",
   "metadata": {},
   "source": [
    "<div class=\"alert-warning\">\n",
    "    <u>Warning</u> :\n",
    "<i><br><li> The clients ct_0 and ct_1 have different ids format</br></li>\n",
    "</i></div>"
   ]
  },
  {
   "cell_type": "markdown",
   "id": "720f8b48",
   "metadata": {},
   "source": [
    "- Add a new column \"customer's age\" :"
   ]
  },
  {
   "cell_type": "code",
   "execution_count": 10,
   "id": "4f5c9d4c",
   "metadata": {},
   "outputs": [
    {
     "data": {
      "text/html": [
       "<div>\n",
       "<style scoped>\n",
       "    .dataframe tbody tr th:only-of-type {\n",
       "        vertical-align: middle;\n",
       "    }\n",
       "\n",
       "    .dataframe tbody tr th {\n",
       "        vertical-align: top;\n",
       "    }\n",
       "\n",
       "    .dataframe thead th {\n",
       "        text-align: right;\n",
       "    }\n",
       "</style>\n",
       "<table border=\"1\" class=\"dataframe\">\n",
       "  <thead>\n",
       "    <tr style=\"text-align: right;\">\n",
       "      <th></th>\n",
       "      <th>client_id</th>\n",
       "      <th>sex</th>\n",
       "      <th>birth</th>\n",
       "      <th>age</th>\n",
       "    </tr>\n",
       "  </thead>\n",
       "  <tbody>\n",
       "    <tr>\n",
       "      <th>0</th>\n",
       "      <td>c_4410</td>\n",
       "      <td>f</td>\n",
       "      <td>1967</td>\n",
       "      <td>55</td>\n",
       "    </tr>\n",
       "    <tr>\n",
       "      <th>1</th>\n",
       "      <td>c_7839</td>\n",
       "      <td>f</td>\n",
       "      <td>1975</td>\n",
       "      <td>47</td>\n",
       "    </tr>\n",
       "    <tr>\n",
       "      <th>2</th>\n",
       "      <td>c_1699</td>\n",
       "      <td>f</td>\n",
       "      <td>1984</td>\n",
       "      <td>38</td>\n",
       "    </tr>\n",
       "    <tr>\n",
       "      <th>3</th>\n",
       "      <td>c_5961</td>\n",
       "      <td>f</td>\n",
       "      <td>1962</td>\n",
       "      <td>60</td>\n",
       "    </tr>\n",
       "    <tr>\n",
       "      <th>4</th>\n",
       "      <td>c_5320</td>\n",
       "      <td>m</td>\n",
       "      <td>1943</td>\n",
       "      <td>79</td>\n",
       "    </tr>\n",
       "  </tbody>\n",
       "</table>\n",
       "</div>"
      ],
      "text/plain": [
       "  client_id sex  birth  age\n",
       "0    c_4410   f   1967   55\n",
       "1    c_7839   f   1975   47\n",
       "2    c_1699   f   1984   38\n",
       "3    c_5961   f   1962   60\n",
       "4    c_5320   m   1943   79"
      ]
     },
     "execution_count": 10,
     "metadata": {},
     "output_type": "execute_result"
    }
   ],
   "source": [
    "customers['age'] = dt.date.today().year - customers['birth']\n",
    "customers.head()"
   ]
  },
  {
   "cell_type": "markdown",
   "id": "ff481fe4",
   "metadata": {},
   "source": [
    "- Customer age distribution ;"
   ]
  },
  {
   "cell_type": "code",
   "execution_count": 11,
   "id": "511fc8ff",
   "metadata": {},
   "outputs": [
    {
     "data": {
      "image/png": "[encoded data removed]",
      "text/plain": [
       "<Figure size 936x504 with 1 Axes>"
      ]
     },
     "metadata": {
      "needs_background": "light"
     },
     "output_type": "display_data"
    },
    {
     "name": "stdout",
     "output_type": "stream",
     "text": [
      "Age min: 18\n",
      "Age max: 93\n"
     ]
    }
   ],
   "source": [
    "plt.figure(figsize=(13,7))\n",
    "sns.histplot(customers[\"age\"])\n",
    "plt.title(\"Graphical representation of customer age distribution\")\n",
    "plt.show()\n",
    "\n",
    "print(\"Age min:\",customers[\"age\"].min())\n",
    "print(\"Age max:\",customers[\"age\"].max())"
   ]
  },
  {
   "cell_type": "markdown",
   "id": "dff13272",
   "metadata": {},
   "source": [
    "<div class=\"alert-success\">\n",
    "    <u>Notice</u> :\n",
    "<i><br><li> The age of the customers is distributed between 18 and 93 years old</br></li>\n",
    "<li> The number of 18-year-olds (minimum age) is very high</li>\n",
    "</i></div>"
   ]
  },
  {
   "cell_type": "markdown",
   "id": "d22383be",
   "metadata": {},
   "source": [
    "- Customer male/female distribution : "
   ]
  },
  {
   "cell_type": "code",
   "execution_count": 12,
   "id": "d61814cc",
   "metadata": {},
   "outputs": [
    {
     "data": {
      "image/png": "[encoded data removed]",
      "text/plain": [
       "<Figure size 432x288 with 1 Axes>"
      ]
     },
     "metadata": {},
     "output_type": "display_data"
    }
   ],
   "source": [
    "customers[\"sex\"].value_counts().plot(kind=\"pie\", autopct='%.1f%%', ylabel='', radius=1.4)\n",
    "plt.show()"
   ]
  },
  {
   "cell_type": "markdown",
   "id": "7a643eea",
   "metadata": {},
   "source": [
    "<div class=\"alert-success\">\n",
    "    <u>Notice</u> :\n",
    "<i><br><li> Customers are almost as many men as women</br></li>\n",
    "</i></div>"
   ]
  },
  {
   "cell_type": "markdown",
   "id": "d877e2f0",
   "metadata": {},
   "source": [
    " <a id='another_cell_b'></a>\n"
   ]
  },
  {
   "cell_type": "markdown",
   "id": "7a86823f",
   "metadata": {},
   "source": [
    "### 2. [products.csv](http://localhost:8888/edit/products.csv) : exploration and data cleaning"
   ]
  },
  {
   "cell_type": "markdown",
   "id": "82925741",
   "metadata": {},
   "source": [
    "- Loading file:"
   ]
  },
  {
   "cell_type": "code",
   "execution_count": 13,
   "id": "38e7d46c",
   "metadata": {},
   "outputs": [],
   "source": [
    "products = pd.read_csv('products.csv', sep=';')"
   ]
  },
  {
   "cell_type": "markdown",
   "id": "8932303b",
   "metadata": {},
   "source": [
    "- First 5 rows display :"
   ]
  },
  {
   "cell_type": "code",
   "execution_count": 14,
   "id": "05ce6096",
   "metadata": {},
   "outputs": [
    {
     "data": {
      "text/html": [
       "<div>\n",
       "<style scoped>\n",
       "    .dataframe tbody tr th:only-of-type {\n",
       "        vertical-align: middle;\n",
       "    }\n",
       "\n",
       "    .dataframe tbody tr th {\n",
       "        vertical-align: top;\n",
       "    }\n",
       "\n",
       "    .dataframe thead th {\n",
       "        text-align: right;\n",
       "    }\n",
       "</style>\n",
       "<table border=\"1\" class=\"dataframe\">\n",
       "  <thead>\n",
       "    <tr style=\"text-align: right;\">\n",
       "      <th></th>\n",
       "      <th>id_prod</th>\n",
       "      <th>price</th>\n",
       "      <th>categ</th>\n",
       "    </tr>\n",
       "  </thead>\n",
       "  <tbody>\n",
       "    <tr>\n",
       "      <th>0</th>\n",
       "      <td>0_1421</td>\n",
       "      <td>19.99</td>\n",
       "      <td>0</td>\n",
       "    </tr>\n",
       "    <tr>\n",
       "      <th>1</th>\n",
       "      <td>0_1368</td>\n",
       "      <td>5.13</td>\n",
       "      <td>0</td>\n",
       "    </tr>\n",
       "    <tr>\n",
       "      <th>2</th>\n",
       "      <td>0_731</td>\n",
       "      <td>17.99</td>\n",
       "      <td>0</td>\n",
       "    </tr>\n",
       "    <tr>\n",
       "      <th>3</th>\n",
       "      <td>1_587</td>\n",
       "      <td>4.99</td>\n",
       "      <td>1</td>\n",
       "    </tr>\n",
       "    <tr>\n",
       "      <th>4</th>\n",
       "      <td>0_1507</td>\n",
       "      <td>3.99</td>\n",
       "      <td>0</td>\n",
       "    </tr>\n",
       "  </tbody>\n",
       "</table>\n",
       "</div>"
      ],
      "text/plain": [
       "  id_prod  price  categ\n",
       "0  0_1421  19.99      0\n",
       "1  0_1368   5.13      0\n",
       "2   0_731  17.99      0\n",
       "3   1_587   4.99      1\n",
       "4  0_1507   3.99      0"
      ]
     },
     "execution_count": 14,
     "metadata": {},
     "output_type": "execute_result"
    }
   ],
   "source": [
    "products.head()"
   ]
  },
  {
   "cell_type": "markdown",
   "id": "6769255d",
   "metadata": {},
   "source": [
    "- Number of rows and columns :"
   ]
  },
  {
   "cell_type": "code",
   "execution_count": 15,
   "id": "50473c0c",
   "metadata": {},
   "outputs": [
    {
     "data": {
      "text/plain": [
       "(3287, 3)"
      ]
     },
     "execution_count": 15,
     "metadata": {},
     "output_type": "execute_result"
    }
   ],
   "source": [
    "products.shape"
   ]
  },
  {
   "cell_type": "markdown",
   "id": "f368d0e4",
   "metadata": {},
   "source": [
    "- .info display :"
   ]
  },
  {
   "cell_type": "code",
   "execution_count": 16,
   "id": "e02bda03",
   "metadata": {},
   "outputs": [
    {
     "name": "stdout",
     "output_type": "stream",
     "text": [
      "<class 'pandas.core.frame.DataFrame'>\n",
      "RangeIndex: 3287 entries, 0 to 3286\n",
      "Data columns (total 3 columns):\n",
      " #   Column   Non-Null Count  Dtype  \n",
      "---  ------   --------------  -----  \n",
      " 0   id_prod  3287 non-null   object \n",
      " 1   price    3287 non-null   float64\n",
      " 2   categ    3287 non-null   int64  \n",
      "dtypes: float64(1), int64(1), object(1)\n",
      "memory usage: 77.2+ KB\n"
     ]
    }
   ],
   "source": [
    "products.info()"
   ]
  },
  {
   "cell_type": "markdown",
   "id": "83049c2f",
   "metadata": {},
   "source": [
    "- Check missing and duplicate values :"
   ]
  },
  {
   "cell_type": "code",
   "execution_count": 17,
   "id": "b905e20c",
   "metadata": {},
   "outputs": [
    {
     "name": "stdout",
     "output_type": "stream",
     "text": [
      "The column id_prod does not contain any missing values\n",
      "The column id_prod does not contain duplicates\n"
     ]
    }
   ],
   "source": [
    "check_nan(products, \"id_prod\")\n",
    "check_duplicates(products,\"id_prod\")"
   ]
  },
  {
   "cell_type": "markdown",
   "id": "be4e40c3",
   "metadata": {},
   "source": [
    "<div class=\"alert-success\">\n",
    "    <u>Notice</u> :\n",
    "<i><br><li> Products data give information on Lapage products : their id (primary key), price (the only quantitative data in this df) and category</br></li>\n",
    "<li> There are 3287 products</li>\n",
    "<li> The data file does not contain any missing value or duplicates</li>\n",
    "<li> The primary key 'id_prod' seems to start with \"categ_xxxx\"</li>\n",
    "</i></div>"
   ]
  },
  {
   "cell_type": "markdown",
   "id": "78793b2b",
   "metadata": {},
   "source": [
    "- Check negative values on price and delete it :"
   ]
  },
  {
   "cell_type": "code",
   "execution_count": 18,
   "id": "15bce6a0",
   "metadata": {},
   "outputs": [
    {
     "data": {
      "text/html": [
       "<div>\n",
       "<style scoped>\n",
       "    .dataframe tbody tr th:only-of-type {\n",
       "        vertical-align: middle;\n",
       "    }\n",
       "\n",
       "    .dataframe tbody tr th {\n",
       "        vertical-align: top;\n",
       "    }\n",
       "\n",
       "    .dataframe thead th {\n",
       "        text-align: right;\n",
       "    }\n",
       "</style>\n",
       "<table border=\"1\" class=\"dataframe\">\n",
       "  <thead>\n",
       "    <tr style=\"text-align: right;\">\n",
       "      <th></th>\n",
       "      <th>id_prod</th>\n",
       "      <th>price</th>\n",
       "      <th>categ</th>\n",
       "    </tr>\n",
       "  </thead>\n",
       "  <tbody>\n",
       "    <tr>\n",
       "      <th>731</th>\n",
       "      <td>T_0</td>\n",
       "      <td>-1.0</td>\n",
       "      <td>0</td>\n",
       "    </tr>\n",
       "  </tbody>\n",
       "</table>\n",
       "</div>"
      ],
      "text/plain": [
       "    id_prod  price  categ\n",
       "731     T_0   -1.0      0"
      ]
     },
     "execution_count": 18,
     "metadata": {},
     "output_type": "execute_result"
    }
   ],
   "source": [
    "products[products[\"price\"]<0]"
   ]
  },
  {
   "cell_type": "code",
   "execution_count": 19,
   "id": "51e7f15c",
   "metadata": {},
   "outputs": [],
   "source": [
    "products = products.drop([731]).reset_index(drop=True)"
   ]
  },
  {
   "cell_type": "markdown",
   "id": "f5189617",
   "metadata": {},
   "source": [
    "<div class=\"alert-danger\">\n",
    "    <u>Danger</u> :\n",
    "<i><br><li> The client T_0 has a negative price, it must be a test product, so we chose to delete this value</br></li>\n",
    "</i></div>"
   ]
  },
  {
   "cell_type": "markdown",
   "id": "e86d7cdf",
   "metadata": {},
   "source": [
    "- Category distribution :"
   ]
  },
  {
   "cell_type": "code",
   "execution_count": 20,
   "id": "a70eda73",
   "metadata": {},
   "outputs": [
    {
     "data": {
      "image/png": "[encoded data removed]",
      "text/plain": [
       "<Figure size 648x432 with 1 Axes>"
      ]
     },
     "metadata": {},
     "output_type": "display_data"
    }
   ],
   "source": [
    "plt.figure(figsize=(13,7))\n",
    "products['categ'] = pd.Categorical(products['categ']) #we convert the variable to the correct format\n",
    "products[\"categ\"].value_counts().plot(kind=\"pie\", autopct='%1.2f%%', figsize=(9,6))\n",
    "plt.show();"
   ]
  },
  {
   "cell_type": "markdown",
   "id": "c0b901ac",
   "metadata": {},
   "source": [
    "<div class=\"alert-success\">\n",
    "    <u>Notice</u> :\n",
    "<i><br><li> There are 3 categories of products : 0,1 and 2</br></li>\n",
    "<i><li> Products are distributed in 3 categories and 2/3 of them are in the category 0</li>\n",
    "</i></div>"
   ]
  },
  {
   "cell_type": "markdown",
   "id": "5a71b9db",
   "metadata": {},
   "source": [
    "- Price variable :"
   ]
  },
  {
   "cell_type": "code",
   "execution_count": 21,
   "id": "55f5e160",
   "metadata": {},
   "outputs": [
    {
     "data": {
      "image/png": "[encoded data removed]",
      "text/plain": [
       "<Figure size 936x504 with 1 Axes>"
      ]
     },
     "metadata": {
      "needs_background": "light"
     },
     "output_type": "display_data"
    },
    {
     "data": {
      "text/html": [
       "<div>\n",
       "<style scoped>\n",
       "    .dataframe tbody tr th:only-of-type {\n",
       "        vertical-align: middle;\n",
       "    }\n",
       "\n",
       "    .dataframe tbody tr th {\n",
       "        vertical-align: top;\n",
       "    }\n",
       "\n",
       "    .dataframe thead th {\n",
       "        text-align: right;\n",
       "    }\n",
       "</style>\n",
       "<table border=\"1\" class=\"dataframe\">\n",
       "  <thead>\n",
       "    <tr style=\"text-align: right;\">\n",
       "      <th></th>\n",
       "      <th>count</th>\n",
       "      <th>mean</th>\n",
       "      <th>std</th>\n",
       "      <th>min</th>\n",
       "      <th>25%</th>\n",
       "      <th>50%</th>\n",
       "      <th>75%</th>\n",
       "      <th>max</th>\n",
       "    </tr>\n",
       "  </thead>\n",
       "  <tbody>\n",
       "    <tr>\n",
       "      <th>price</th>\n",
       "      <td>3286.0</td>\n",
       "      <td>21.863597</td>\n",
       "      <td>29.849786</td>\n",
       "      <td>0.62</td>\n",
       "      <td>6.99</td>\n",
       "      <td>13.075</td>\n",
       "      <td>22.99</td>\n",
       "      <td>300.0</td>\n",
       "    </tr>\n",
       "  </tbody>\n",
       "</table>\n",
       "</div>"
      ],
      "text/plain": [
       "        count       mean        std   min   25%     50%    75%    max\n",
       "price  3286.0  21.863597  29.849786  0.62  6.99  13.075  22.99  300.0"
      ]
     },
     "metadata": {},
     "output_type": "display_data"
    }
   ],
   "source": [
    "plt.figure(figsize=(13,7))\n",
    "sns.histplot(data =products, x=\"price\" )\n",
    "plt.show();\n",
    "\n",
    "display(products.describe().T)"
   ]
  },
  {
   "cell_type": "markdown",
   "id": "1e855c4b",
   "metadata": {},
   "source": [
    "<div class=\"alert-success\">\n",
    "    <u>Notice</u> :\n",
    "<i><br><li> The average price is 21.86 euros</br></li>\n",
    "<i><li> 50% of the prices are below 13.06 euros with a maximum price of 300 euros</li>\n",
    "<i><li> We have a spready distribution on the right with a standard deviation of 29.84 euros and certainly outliers</li>\n",
    "</i></div>"
   ]
  },
  {
   "cell_type": "markdown",
   "id": "721ac024",
   "metadata": {},
   "source": [
    "- Outliers on the variable price : "
   ]
  },
  {
   "cell_type": "code",
   "execution_count": 22,
   "id": "a9bb8827",
   "metadata": {},
   "outputs": [
    {
     "name": "stdout",
     "output_type": "stream",
     "text": [
      "---------------------------------------------------------------------------------------------------- \n",
      "\n"
     ]
    },
    {
     "data": {
      "image/png": "[encoded data removed]",
      "text/plain": [
       "<Figure size 648x288 with 1 Axes>"
      ]
     },
     "metadata": {
      "needs_background": "light"
     },
     "output_type": "display_data"
    },
    {
     "name": "stdout",
     "output_type": "stream",
     "text": [
      "---------------------------------------------------------------------------------------------------- \n",
      "\n"
     ]
    },
    {
     "data": {
      "image/png": "[encoded data removed]",
      "text/plain": [
       "<Figure size 648x432 with 1 Axes>"
      ]
     },
     "metadata": {
      "needs_background": "light"
     },
     "output_type": "display_data"
    },
    {
     "name": "stdout",
     "output_type": "stream",
     "text": [
      "---------------------------------------------------------------------------------------------------- \n",
      "\n"
     ]
    },
    {
     "data": {
      "text/html": [
       "<div>\n",
       "<style scoped>\n",
       "    .dataframe tbody tr th:only-of-type {\n",
       "        vertical-align: middle;\n",
       "    }\n",
       "\n",
       "    .dataframe tbody tr th {\n",
       "        vertical-align: top;\n",
       "    }\n",
       "\n",
       "    .dataframe thead th {\n",
       "        text-align: right;\n",
       "    }\n",
       "</style>\n",
       "<table border=\"1\" class=\"dataframe\">\n",
       "  <thead>\n",
       "    <tr style=\"text-align: right;\">\n",
       "      <th></th>\n",
       "      <th>id_prod</th>\n",
       "      <th>price</th>\n",
       "      <th>categ</th>\n",
       "      <th>zscore</th>\n",
       "    </tr>\n",
       "  </thead>\n",
       "  <tbody>\n",
       "    <tr>\n",
       "      <th>10</th>\n",
       "      <td>2_228</td>\n",
       "      <td>225.17</td>\n",
       "      <td>2</td>\n",
       "      <td>6.810984</td>\n",
       "    </tr>\n",
       "    <tr>\n",
       "      <th>64</th>\n",
       "      <td>2_89</td>\n",
       "      <td>107.99</td>\n",
       "      <td>2</td>\n",
       "      <td>2.885327</td>\n",
       "    </tr>\n",
       "    <tr>\n",
       "      <th>73</th>\n",
       "      <td>2_225</td>\n",
       "      <td>157.99</td>\n",
       "      <td>2</td>\n",
       "      <td>4.560381</td>\n",
       "    </tr>\n",
       "    <tr>\n",
       "      <th>79</th>\n",
       "      <td>2_187</td>\n",
       "      <td>157.99</td>\n",
       "      <td>2</td>\n",
       "      <td>4.560381</td>\n",
       "    </tr>\n",
       "    <tr>\n",
       "      <th>95</th>\n",
       "      <td>2_128</td>\n",
       "      <td>201.74</td>\n",
       "      <td>2</td>\n",
       "      <td>6.026053</td>\n",
       "    </tr>\n",
       "    <tr>\n",
       "      <th>...</th>\n",
       "      <td>...</td>\n",
       "      <td>...</td>\n",
       "      <td>...</td>\n",
       "      <td>...</td>\n",
       "    </tr>\n",
       "    <tr>\n",
       "      <th>3183</th>\n",
       "      <td>2_142</td>\n",
       "      <td>105.24</td>\n",
       "      <td>2</td>\n",
       "      <td>2.793199</td>\n",
       "    </tr>\n",
       "    <tr>\n",
       "      <th>3187</th>\n",
       "      <td>2_99</td>\n",
       "      <td>84.99</td>\n",
       "      <td>2</td>\n",
       "      <td>2.114803</td>\n",
       "    </tr>\n",
       "    <tr>\n",
       "      <th>3195</th>\n",
       "      <td>2_238</td>\n",
       "      <td>93.92</td>\n",
       "      <td>2</td>\n",
       "      <td>2.413967</td>\n",
       "    </tr>\n",
       "    <tr>\n",
       "      <th>3270</th>\n",
       "      <td>2_123</td>\n",
       "      <td>147.99</td>\n",
       "      <td>2</td>\n",
       "      <td>4.225370</td>\n",
       "    </tr>\n",
       "    <tr>\n",
       "      <th>3281</th>\n",
       "      <td>2_23</td>\n",
       "      <td>115.99</td>\n",
       "      <td>2</td>\n",
       "      <td>3.153336</td>\n",
       "    </tr>\n",
       "  </tbody>\n",
       "</table>\n",
       "<p>157 rows × 4 columns</p>\n",
       "</div>"
      ],
      "text/plain": [
       "     id_prod   price categ    zscore\n",
       "10     2_228  225.17     2  6.810984\n",
       "64      2_89  107.99     2  2.885327\n",
       "73     2_225  157.99     2  4.560381\n",
       "79     2_187  157.99     2  4.560381\n",
       "95     2_128  201.74     2  6.026053\n",
       "...      ...     ...   ...       ...\n",
       "3183   2_142  105.24     2  2.793199\n",
       "3187    2_99   84.99     2  2.114803\n",
       "3195   2_238   93.92     2  2.413967\n",
       "3270   2_123  147.99     2  4.225370\n",
       "3281    2_23  115.99     2  3.153336\n",
       "\n",
       "[157 rows x 4 columns]"
      ]
     },
     "metadata": {},
     "output_type": "display_data"
    }
   ],
   "source": [
    "print('-'*100, \"\\n\")\n",
    "plt.figure(figsize=(9,4))\n",
    "palette = ['g','b','r']\n",
    "meanprops={ \"marker\" : \"s\", \"markerfacecolor\" : \"w\"}\n",
    "sns.boxplot(data=products, y='categ', x='price', orient='h', showmeans=True, palette=palette, meanprops=meanprops)\n",
    "plt.title('Prices distribution by category');\n",
    "plt.show()\n",
    "\n",
    "outliers = products.copy()\n",
    "outliers[\"zscore\"] = (outliers[\"price\"] - outliers[\"price\"].mean())/outliers[\"price\"].std()\n",
    "the_ok = outliers[(outliers[\"zscore\"] <= 2) & (outliers[\"zscore\"] >= -2)]\n",
    "the_outliers = outliers[outliers[\"zscore\"].abs() >2];\n",
    "print('-'*100, \"\\n\")\n",
    "plt.figure(figsize=(9,6))\n",
    "sns.scatterplot(x=the_ok[\"price\"].index, y=the_ok[\"price\"].values,)\n",
    "sns.scatterplot(x=the_outliers[\"price\"].index, y=the_outliers[\"price\"].values)\n",
    "plt.title('Outliers graphic representation');\n",
    "plt.show()\n",
    "print('-'*100, \"\\n\")\n",
    "display(the_outliers)"
   ]
  },
  {
   "cell_type": "markdown",
   "id": "117dccb1",
   "metadata": {},
   "source": [
    "<div class=\"alert-warning\">\n",
    "    <u>Warning</u> :\n",
    "<i><br><li> Number of outliers detected : 157</br></li>\n",
    "</i></div>"
   ]
  },
  {
   "cell_type": "markdown",
   "id": "32d1ace9",
   "metadata": {},
   "source": [
    "  <a id='another_cell_c'></a>"
   ]
  },
  {
   "cell_type": "markdown",
   "id": "59d67a9f",
   "metadata": {},
   "source": [
    "### 3. [transactions.csv](http://localhost:8888/edit/transactions.csv) : exploration and data cleaning\n"
   ]
  },
  {
   "cell_type": "markdown",
   "id": "2c06c344",
   "metadata": {},
   "source": [
    "- Loading file:"
   ]
  },
  {
   "cell_type": "code",
   "execution_count": 23,
   "id": "afa04da3",
   "metadata": {},
   "outputs": [],
   "source": [
    "transactions = pd.read_csv('transactions.csv', sep=';')"
   ]
  },
  {
   "cell_type": "markdown",
   "id": "61799f36",
   "metadata": {},
   "source": [
    "- First 5 rows display :"
   ]
  },
  {
   "cell_type": "code",
   "execution_count": 24,
   "id": "928ed6c2",
   "metadata": {},
   "outputs": [
    {
     "data": {
      "text/html": [
       "<div>\n",
       "<style scoped>\n",
       "    .dataframe tbody tr th:only-of-type {\n",
       "        vertical-align: middle;\n",
       "    }\n",
       "\n",
       "    .dataframe tbody tr th {\n",
       "        vertical-align: top;\n",
       "    }\n",
       "\n",
       "    .dataframe thead th {\n",
       "        text-align: right;\n",
       "    }\n",
       "</style>\n",
       "<table border=\"1\" class=\"dataframe\">\n",
       "  <thead>\n",
       "    <tr style=\"text-align: right;\">\n",
       "      <th></th>\n",
       "      <th>id_prod</th>\n",
       "      <th>date</th>\n",
       "      <th>session_id</th>\n",
       "      <th>client_id</th>\n",
       "    </tr>\n",
       "  </thead>\n",
       "  <tbody>\n",
       "    <tr>\n",
       "      <th>0</th>\n",
       "      <td>0_1518</td>\n",
       "      <td>2022-05-20 13:21:29.043970</td>\n",
       "      <td>s_211425</td>\n",
       "      <td>c_103</td>\n",
       "    </tr>\n",
       "    <tr>\n",
       "      <th>1</th>\n",
       "      <td>1_251</td>\n",
       "      <td>2022-02-02 07:55:19.149409</td>\n",
       "      <td>s_158752</td>\n",
       "      <td>c_8534</td>\n",
       "    </tr>\n",
       "    <tr>\n",
       "      <th>2</th>\n",
       "      <td>0_1277</td>\n",
       "      <td>2022-06-18 15:44:33.155329</td>\n",
       "      <td>s_225667</td>\n",
       "      <td>c_6714</td>\n",
       "    </tr>\n",
       "    <tr>\n",
       "      <th>3</th>\n",
       "      <td>2_209</td>\n",
       "      <td>2021-06-24 04:19:29.835891</td>\n",
       "      <td>s_52962</td>\n",
       "      <td>c_6941</td>\n",
       "    </tr>\n",
       "    <tr>\n",
       "      <th>4</th>\n",
       "      <td>0_1509</td>\n",
       "      <td>2023-01-11 08:22:08.194479</td>\n",
       "      <td>s_325227</td>\n",
       "      <td>c_4232</td>\n",
       "    </tr>\n",
       "  </tbody>\n",
       "</table>\n",
       "</div>"
      ],
      "text/plain": [
       "  id_prod                        date session_id client_id\n",
       "0  0_1518  2022-05-20 13:21:29.043970   s_211425     c_103\n",
       "1   1_251  2022-02-02 07:55:19.149409   s_158752    c_8534\n",
       "2  0_1277  2022-06-18 15:44:33.155329   s_225667    c_6714\n",
       "3   2_209  2021-06-24 04:19:29.835891    s_52962    c_6941\n",
       "4  0_1509  2023-01-11 08:22:08.194479   s_325227    c_4232"
      ]
     },
     "execution_count": 24,
     "metadata": {},
     "output_type": "execute_result"
    }
   ],
   "source": [
    "transactions.head()"
   ]
  },
  {
   "cell_type": "markdown",
   "id": "1c288812",
   "metadata": {},
   "source": [
    "- Number of rows and columns :"
   ]
  },
  {
   "cell_type": "code",
   "execution_count": 25,
   "id": "7bfa1dce",
   "metadata": {},
   "outputs": [
    {
     "data": {
      "text/plain": [
       "(679532, 4)"
      ]
     },
     "execution_count": 25,
     "metadata": {},
     "output_type": "execute_result"
    }
   ],
   "source": [
    "transactions.shape"
   ]
  },
  {
   "cell_type": "markdown",
   "id": "3591f866",
   "metadata": {},
   "source": [
    "- .info display :"
   ]
  },
  {
   "cell_type": "code",
   "execution_count": 26,
   "id": "40cad71c",
   "metadata": {},
   "outputs": [
    {
     "name": "stdout",
     "output_type": "stream",
     "text": [
      "<class 'pandas.core.frame.DataFrame'>\n",
      "RangeIndex: 679532 entries, 0 to 679531\n",
      "Data columns (total 4 columns):\n",
      " #   Column      Non-Null Count   Dtype \n",
      "---  ------      --------------   ----- \n",
      " 0   id_prod     679532 non-null  object\n",
      " 1   date        679532 non-null  object\n",
      " 2   session_id  679532 non-null  object\n",
      " 3   client_id   679532 non-null  object\n",
      "dtypes: object(4)\n",
      "memory usage: 20.7+ MB\n"
     ]
    }
   ],
   "source": [
    "transactions.info()"
   ]
  },
  {
   "cell_type": "markdown",
   "id": "ff59b2f2",
   "metadata": {},
   "source": [
    "<div class=\"alert-success\">\n",
    "    <u>Notice</u> :\n",
    "<i><br><li> Dataframe transactions provides information about sales transactions : it links the df products and customers using \"id_prod\" and \"client_id\" foreign keys</br></li>\n",
    "<i><li> There are 4 variables in the dataset : each line represents a sale transaction on a given date</li>\n",
    "<i><li> There are 679,532 transactions recorded</li>\n",
    "<li> The data file does not contain any missing value</li>\n",
    "</i></div>"
   ]
  },
  {
   "cell_type": "markdown",
   "id": "a28c340f",
   "metadata": {},
   "source": [
    "- Check and delete duplicates on df :"
   ]
  },
  {
   "cell_type": "code",
   "execution_count": 27,
   "id": "2218d5f0",
   "metadata": {},
   "outputs": [
    {
     "data": {
      "text/html": [
       "<div>\n",
       "<style scoped>\n",
       "    .dataframe tbody tr th:only-of-type {\n",
       "        vertical-align: middle;\n",
       "    }\n",
       "\n",
       "    .dataframe tbody tr th {\n",
       "        vertical-align: top;\n",
       "    }\n",
       "\n",
       "    .dataframe thead th {\n",
       "        text-align: right;\n",
       "    }\n",
       "</style>\n",
       "<table border=\"1\" class=\"dataframe\">\n",
       "  <thead>\n",
       "    <tr style=\"text-align: right;\">\n",
       "      <th></th>\n",
       "      <th>id_prod</th>\n",
       "      <th>date</th>\n",
       "      <th>session_id</th>\n",
       "      <th>client_id</th>\n",
       "    </tr>\n",
       "  </thead>\n",
       "  <tbody>\n",
       "    <tr>\n",
       "      <th>27778</th>\n",
       "      <td>T_0</td>\n",
       "      <td>test_2021-03-01 02:30:02.237437</td>\n",
       "      <td>s_0</td>\n",
       "      <td>ct_1</td>\n",
       "    </tr>\n",
       "    <tr>\n",
       "      <th>52424</th>\n",
       "      <td>T_0</td>\n",
       "      <td>test_2021-03-01 02:30:02.237419</td>\n",
       "      <td>s_0</td>\n",
       "      <td>ct_0</td>\n",
       "    </tr>\n",
       "    <tr>\n",
       "      <th>96687</th>\n",
       "      <td>T_0</td>\n",
       "      <td>test_2021-03-01 02:30:02.237412</td>\n",
       "      <td>s_0</td>\n",
       "      <td>ct_1</td>\n",
       "    </tr>\n",
       "    <tr>\n",
       "      <th>130188</th>\n",
       "      <td>T_0</td>\n",
       "      <td>test_2021-03-01 02:30:02.237419</td>\n",
       "      <td>s_0</td>\n",
       "      <td>ct_0</td>\n",
       "    </tr>\n",
       "    <tr>\n",
       "      <th>139339</th>\n",
       "      <td>T_0</td>\n",
       "      <td>test_2021-03-01 02:30:02.237443</td>\n",
       "      <td>s_0</td>\n",
       "      <td>ct_1</td>\n",
       "    </tr>\n",
       "    <tr>\n",
       "      <th>...</th>\n",
       "      <td>...</td>\n",
       "      <td>...</td>\n",
       "      <td>...</td>\n",
       "      <td>...</td>\n",
       "    </tr>\n",
       "    <tr>\n",
       "      <th>653098</th>\n",
       "      <td>T_0</td>\n",
       "      <td>test_2021-03-01 02:30:02.237432</td>\n",
       "      <td>s_0</td>\n",
       "      <td>ct_0</td>\n",
       "    </tr>\n",
       "    <tr>\n",
       "      <th>657830</th>\n",
       "      <td>T_0</td>\n",
       "      <td>test_2021-03-01 02:30:02.237417</td>\n",
       "      <td>s_0</td>\n",
       "      <td>ct_0</td>\n",
       "    </tr>\n",
       "    <tr>\n",
       "      <th>662081</th>\n",
       "      <td>T_0</td>\n",
       "      <td>test_2021-03-01 02:30:02.237427</td>\n",
       "      <td>s_0</td>\n",
       "      <td>ct_1</td>\n",
       "    </tr>\n",
       "    <tr>\n",
       "      <th>671647</th>\n",
       "      <td>T_0</td>\n",
       "      <td>test_2021-03-01 02:30:02.237424</td>\n",
       "      <td>s_0</td>\n",
       "      <td>ct_1</td>\n",
       "    </tr>\n",
       "    <tr>\n",
       "      <th>679180</th>\n",
       "      <td>T_0</td>\n",
       "      <td>test_2021-03-01 02:30:02.237425</td>\n",
       "      <td>s_0</td>\n",
       "      <td>ct_1</td>\n",
       "    </tr>\n",
       "  </tbody>\n",
       "</table>\n",
       "<p>126 rows × 4 columns</p>\n",
       "</div>"
      ],
      "text/plain": [
       "       id_prod                             date session_id client_id\n",
       "27778      T_0  test_2021-03-01 02:30:02.237437        s_0      ct_1\n",
       "52424      T_0  test_2021-03-01 02:30:02.237419        s_0      ct_0\n",
       "96687      T_0  test_2021-03-01 02:30:02.237412        s_0      ct_1\n",
       "130188     T_0  test_2021-03-01 02:30:02.237419        s_0      ct_0\n",
       "139339     T_0  test_2021-03-01 02:30:02.237443        s_0      ct_1\n",
       "...        ...                              ...        ...       ...\n",
       "653098     T_0  test_2021-03-01 02:30:02.237432        s_0      ct_0\n",
       "657830     T_0  test_2021-03-01 02:30:02.237417        s_0      ct_0\n",
       "662081     T_0  test_2021-03-01 02:30:02.237427        s_0      ct_1\n",
       "671647     T_0  test_2021-03-01 02:30:02.237424        s_0      ct_1\n",
       "679180     T_0  test_2021-03-01 02:30:02.237425        s_0      ct_1\n",
       "\n",
       "[126 rows x 4 columns]"
      ]
     },
     "execution_count": 27,
     "metadata": {},
     "output_type": "execute_result"
    }
   ],
   "source": [
    "doublons = transactions[transactions.duplicated()]\n",
    "doublons"
   ]
  },
  {
   "cell_type": "code",
   "execution_count": 28,
   "id": "b5dfe32e",
   "metadata": {},
   "outputs": [
    {
     "name": "stdout",
     "output_type": "stream",
     "text": [
      "Duplicates relate to products : ['T_0']\n",
      "---------------------------------------------------------------------------------------------------- \n",
      "\n",
      "Duplicates relate to clients : ['ct_1' 'ct_0']\n",
      "---------------------------------------------------------------------------------------------------- \n",
      "\n",
      "Duplicates relate to dates : ['test_2021-03-01 02:30:02']\n",
      "---------------------------------------------------------------------------------------------------- \n",
      "\n",
      "Duplicates relate to sessions : ['s_0']\n"
     ]
    }
   ],
   "source": [
    "print(\"Duplicates relate to products :\", doublons[\"id_prod\"].unique())\n",
    "print('-'*100, \"\\n\")\n",
    "print(\"Duplicates relate to clients :\", doublons[\"client_id\"].unique())\n",
    "print('-'*100, \"\\n\")\n",
    "print(\"Duplicates relate to dates :\", doublons[\"date\"].str.split(\".\", expand=True)[0].unique())\n",
    "print('-'*100, \"\\n\")\n",
    "print(\"Duplicates relate to sessions :\", doublons[\"session_id\"].str.split(\".\", expand=True)[0].unique())"
   ]
  },
  {
   "cell_type": "markdown",
   "id": "2297a82a",
   "metadata": {},
   "source": [
    "<div class=\"alert-danger\">\n",
    "    <u>Danger</u> :\n",
    "<i><br><li> Clients ct_1 and ct_0 are test clients who made transactions on a test product (T_0) on a test date ('test_2021-03-01 02:30:02') during a test session (s_0)</br></li>\n",
    "</i></div>"
   ]
  },
  {
   "cell_type": "code",
   "execution_count": 29,
   "id": "b7aa2cfd",
   "metadata": {},
   "outputs": [
    {
     "name": "stdout",
     "output_type": "stream",
     "text": [
      "There are 200 tests transactions\n"
     ]
    }
   ],
   "source": [
    "transactions_test = transactions[transactions[\"id_prod\"] ==\"T_0\"]\n",
    "print(\"There are\", len(transactions_test), \"tests transactions\")"
   ]
  },
  {
   "cell_type": "code",
   "execution_count": 30,
   "id": "5fd0b093",
   "metadata": {},
   "outputs": [
    {
     "data": {
      "text/plain": [
       "(679332, 4)"
      ]
     },
     "execution_count": 30,
     "metadata": {},
     "output_type": "execute_result"
    }
   ],
   "source": [
    "transactions = transactions[transactions[\"id_prod\"] !=\"T_0\"]\n",
    "transactions.shape"
   ]
  },
  {
   "cell_type": "markdown",
   "id": "74696219",
   "metadata": {},
   "source": [
    "<div class=\"alert-success\">\n",
    "    <u>Notice</u> :\n",
    "<i><br><li> After cleaning, there are 679,332 transactions in the file</br></li>\n",
    "</i></div>"
   ]
  },
  {
   "cell_type": "markdown",
   "id": "ab162aff",
   "metadata": {},
   "source": [
    "- Split date, time and year in the df :"
   ]
  },
  {
   "cell_type": "code",
   "execution_count": 31,
   "id": "0c4c69b1",
   "metadata": {},
   "outputs": [
    {
     "data": {
      "text/html": [
       "<div>\n",
       "<style scoped>\n",
       "    .dataframe tbody tr th:only-of-type {\n",
       "        vertical-align: middle;\n",
       "    }\n",
       "\n",
       "    .dataframe tbody tr th {\n",
       "        vertical-align: top;\n",
       "    }\n",
       "\n",
       "    .dataframe thead th {\n",
       "        text-align: right;\n",
       "    }\n",
       "</style>\n",
       "<table border=\"1\" class=\"dataframe\">\n",
       "  <thead>\n",
       "    <tr style=\"text-align: right;\">\n",
       "      <th></th>\n",
       "      <th>id_prod</th>\n",
       "      <th>date</th>\n",
       "      <th>session_id</th>\n",
       "      <th>client_id</th>\n",
       "      <th>year</th>\n",
       "      <th>time</th>\n",
       "    </tr>\n",
       "  </thead>\n",
       "  <tbody>\n",
       "    <tr>\n",
       "      <th>0</th>\n",
       "      <td>0_1518</td>\n",
       "      <td>2022-05-20</td>\n",
       "      <td>s_211425</td>\n",
       "      <td>c_103</td>\n",
       "      <td>2022</td>\n",
       "      <td>00:00:00</td>\n",
       "    </tr>\n",
       "    <tr>\n",
       "      <th>1</th>\n",
       "      <td>1_251</td>\n",
       "      <td>2022-02-02</td>\n",
       "      <td>s_158752</td>\n",
       "      <td>c_8534</td>\n",
       "      <td>2022</td>\n",
       "      <td>00:00:00</td>\n",
       "    </tr>\n",
       "    <tr>\n",
       "      <th>2</th>\n",
       "      <td>0_1277</td>\n",
       "      <td>2022-06-18</td>\n",
       "      <td>s_225667</td>\n",
       "      <td>c_6714</td>\n",
       "      <td>2022</td>\n",
       "      <td>00:00:00</td>\n",
       "    </tr>\n",
       "    <tr>\n",
       "      <th>3</th>\n",
       "      <td>2_209</td>\n",
       "      <td>2021-06-24</td>\n",
       "      <td>s_52962</td>\n",
       "      <td>c_6941</td>\n",
       "      <td>2021</td>\n",
       "      <td>00:00:00</td>\n",
       "    </tr>\n",
       "    <tr>\n",
       "      <th>4</th>\n",
       "      <td>0_1509</td>\n",
       "      <td>2023-01-11</td>\n",
       "      <td>s_325227</td>\n",
       "      <td>c_4232</td>\n",
       "      <td>2023</td>\n",
       "      <td>00:00:00</td>\n",
       "    </tr>\n",
       "    <tr>\n",
       "      <th>...</th>\n",
       "      <td>...</td>\n",
       "      <td>...</td>\n",
       "      <td>...</td>\n",
       "      <td>...</td>\n",
       "      <td>...</td>\n",
       "      <td>...</td>\n",
       "    </tr>\n",
       "    <tr>\n",
       "      <th>679527</th>\n",
       "      <td>0_1551</td>\n",
       "      <td>2022-01-15</td>\n",
       "      <td>s_150195</td>\n",
       "      <td>c_8489</td>\n",
       "      <td>2022</td>\n",
       "      <td>00:00:00</td>\n",
       "    </tr>\n",
       "    <tr>\n",
       "      <th>679528</th>\n",
       "      <td>1_639</td>\n",
       "      <td>2022-03-19</td>\n",
       "      <td>s_181434</td>\n",
       "      <td>c_4370</td>\n",
       "      <td>2022</td>\n",
       "      <td>00:00:00</td>\n",
       "    </tr>\n",
       "    <tr>\n",
       "      <th>679529</th>\n",
       "      <td>0_1425</td>\n",
       "      <td>2022-12-20</td>\n",
       "      <td>s_314704</td>\n",
       "      <td>c_304</td>\n",
       "      <td>2022</td>\n",
       "      <td>00:00:00</td>\n",
       "    </tr>\n",
       "    <tr>\n",
       "      <th>679530</th>\n",
       "      <td>0_1994</td>\n",
       "      <td>2021-07-16</td>\n",
       "      <td>s_63204</td>\n",
       "      <td>c_2227</td>\n",
       "      <td>2021</td>\n",
       "      <td>00:00:00</td>\n",
       "    </tr>\n",
       "    <tr>\n",
       "      <th>679531</th>\n",
       "      <td>1_523</td>\n",
       "      <td>2022-09-28</td>\n",
       "      <td>s_274568</td>\n",
       "      <td>c_3873</td>\n",
       "      <td>2022</td>\n",
       "      <td>00:00:00</td>\n",
       "    </tr>\n",
       "  </tbody>\n",
       "</table>\n",
       "<p>679332 rows × 6 columns</p>\n",
       "</div>"
      ],
      "text/plain": [
       "       id_prod       date session_id client_id  year      time\n",
       "0       0_1518 2022-05-20   s_211425     c_103  2022  00:00:00\n",
       "1        1_251 2022-02-02   s_158752    c_8534  2022  00:00:00\n",
       "2       0_1277 2022-06-18   s_225667    c_6714  2022  00:00:00\n",
       "3        2_209 2021-06-24    s_52962    c_6941  2021  00:00:00\n",
       "4       0_1509 2023-01-11   s_325227    c_4232  2023  00:00:00\n",
       "...        ...        ...        ...       ...   ...       ...\n",
       "679527  0_1551 2022-01-15   s_150195    c_8489  2022  00:00:00\n",
       "679528   1_639 2022-03-19   s_181434    c_4370  2022  00:00:00\n",
       "679529  0_1425 2022-12-20   s_314704     c_304  2022  00:00:00\n",
       "679530  0_1994 2021-07-16    s_63204    c_2227  2021  00:00:00\n",
       "679531   1_523 2022-09-28   s_274568    c_3873  2022  00:00:00\n",
       "\n",
       "[679332 rows x 6 columns]"
      ]
     },
     "execution_count": 31,
     "metadata": {},
     "output_type": "execute_result"
    }
   ],
   "source": [
    "transactions['date'] = pd.to_datetime(transactions['date']).dt.date\n",
    "transactions['year'] = pd.to_datetime(transactions['date']).dt.year\n",
    "transactions['time'] = pd.to_datetime(transactions['date']).dt.time\n",
    "transactions['date'] = pd.to_datetime(transactions['date'])#date convertion\n",
    "transactions"
   ]
  },
  {
   "cell_type": "markdown",
   "id": "d93f235f",
   "metadata": {},
   "source": [
    "- Add a new column \"period\" :"
   ]
  },
  {
   "cell_type": "code",
   "execution_count": 32,
   "id": "a1fd3fbd",
   "metadata": {},
   "outputs": [
    {
     "data": {
      "text/html": [
       "<div>\n",
       "<style scoped>\n",
       "    .dataframe tbody tr th:only-of-type {\n",
       "        vertical-align: middle;\n",
       "    }\n",
       "\n",
       "    .dataframe tbody tr th {\n",
       "        vertical-align: top;\n",
       "    }\n",
       "\n",
       "    .dataframe thead th {\n",
       "        text-align: right;\n",
       "    }\n",
       "</style>\n",
       "<table border=\"1\" class=\"dataframe\">\n",
       "  <thead>\n",
       "    <tr style=\"text-align: right;\">\n",
       "      <th></th>\n",
       "      <th>id_prod</th>\n",
       "      <th>date</th>\n",
       "      <th>session_id</th>\n",
       "      <th>client_id</th>\n",
       "      <th>year</th>\n",
       "      <th>time</th>\n",
       "      <th>period</th>\n",
       "    </tr>\n",
       "  </thead>\n",
       "  <tbody>\n",
       "    <tr>\n",
       "      <th>0</th>\n",
       "      <td>0_1518</td>\n",
       "      <td>2022-05-20</td>\n",
       "      <td>s_211425</td>\n",
       "      <td>c_103</td>\n",
       "      <td>2022</td>\n",
       "      <td>00:00:00</td>\n",
       "      <td>2022-05</td>\n",
       "    </tr>\n",
       "    <tr>\n",
       "      <th>1</th>\n",
       "      <td>1_251</td>\n",
       "      <td>2022-02-02</td>\n",
       "      <td>s_158752</td>\n",
       "      <td>c_8534</td>\n",
       "      <td>2022</td>\n",
       "      <td>00:00:00</td>\n",
       "      <td>2022-02</td>\n",
       "    </tr>\n",
       "    <tr>\n",
       "      <th>2</th>\n",
       "      <td>0_1277</td>\n",
       "      <td>2022-06-18</td>\n",
       "      <td>s_225667</td>\n",
       "      <td>c_6714</td>\n",
       "      <td>2022</td>\n",
       "      <td>00:00:00</td>\n",
       "      <td>2022-06</td>\n",
       "    </tr>\n",
       "    <tr>\n",
       "      <th>3</th>\n",
       "      <td>2_209</td>\n",
       "      <td>2021-06-24</td>\n",
       "      <td>s_52962</td>\n",
       "      <td>c_6941</td>\n",
       "      <td>2021</td>\n",
       "      <td>00:00:00</td>\n",
       "      <td>2021-06</td>\n",
       "    </tr>\n",
       "    <tr>\n",
       "      <th>4</th>\n",
       "      <td>0_1509</td>\n",
       "      <td>2023-01-11</td>\n",
       "      <td>s_325227</td>\n",
       "      <td>c_4232</td>\n",
       "      <td>2023</td>\n",
       "      <td>00:00:00</td>\n",
       "      <td>2023-01</td>\n",
       "    </tr>\n",
       "    <tr>\n",
       "      <th>...</th>\n",
       "      <td>...</td>\n",
       "      <td>...</td>\n",
       "      <td>...</td>\n",
       "      <td>...</td>\n",
       "      <td>...</td>\n",
       "      <td>...</td>\n",
       "      <td>...</td>\n",
       "    </tr>\n",
       "    <tr>\n",
       "      <th>679527</th>\n",
       "      <td>0_1551</td>\n",
       "      <td>2022-01-15</td>\n",
       "      <td>s_150195</td>\n",
       "      <td>c_8489</td>\n",
       "      <td>2022</td>\n",
       "      <td>00:00:00</td>\n",
       "      <td>2022-01</td>\n",
       "    </tr>\n",
       "    <tr>\n",
       "      <th>679528</th>\n",
       "      <td>1_639</td>\n",
       "      <td>2022-03-19</td>\n",
       "      <td>s_181434</td>\n",
       "      <td>c_4370</td>\n",
       "      <td>2022</td>\n",
       "      <td>00:00:00</td>\n",
       "      <td>2022-03</td>\n",
       "    </tr>\n",
       "    <tr>\n",
       "      <th>679529</th>\n",
       "      <td>0_1425</td>\n",
       "      <td>2022-12-20</td>\n",
       "      <td>s_314704</td>\n",
       "      <td>c_304</td>\n",
       "      <td>2022</td>\n",
       "      <td>00:00:00</td>\n",
       "      <td>2022-12</td>\n",
       "    </tr>\n",
       "    <tr>\n",
       "      <th>679530</th>\n",
       "      <td>0_1994</td>\n",
       "      <td>2021-07-16</td>\n",
       "      <td>s_63204</td>\n",
       "      <td>c_2227</td>\n",
       "      <td>2021</td>\n",
       "      <td>00:00:00</td>\n",
       "      <td>2021-07</td>\n",
       "    </tr>\n",
       "    <tr>\n",
       "      <th>679531</th>\n",
       "      <td>1_523</td>\n",
       "      <td>2022-09-28</td>\n",
       "      <td>s_274568</td>\n",
       "      <td>c_3873</td>\n",
       "      <td>2022</td>\n",
       "      <td>00:00:00</td>\n",
       "      <td>2022-09</td>\n",
       "    </tr>\n",
       "  </tbody>\n",
       "</table>\n",
       "<p>679332 rows × 7 columns</p>\n",
       "</div>"
      ],
      "text/plain": [
       "       id_prod       date session_id client_id  year      time   period\n",
       "0       0_1518 2022-05-20   s_211425     c_103  2022  00:00:00  2022-05\n",
       "1        1_251 2022-02-02   s_158752    c_8534  2022  00:00:00  2022-02\n",
       "2       0_1277 2022-06-18   s_225667    c_6714  2022  00:00:00  2022-06\n",
       "3        2_209 2021-06-24    s_52962    c_6941  2021  00:00:00  2021-06\n",
       "4       0_1509 2023-01-11   s_325227    c_4232  2023  00:00:00  2023-01\n",
       "...        ...        ...        ...       ...   ...       ...      ...\n",
       "679527  0_1551 2022-01-15   s_150195    c_8489  2022  00:00:00  2022-01\n",
       "679528   1_639 2022-03-19   s_181434    c_4370  2022  00:00:00  2022-03\n",
       "679529  0_1425 2022-12-20   s_314704     c_304  2022  00:00:00  2022-12\n",
       "679530  0_1994 2021-07-16    s_63204    c_2227  2021  00:00:00  2021-07\n",
       "679531   1_523 2022-09-28   s_274568    c_3873  2022  00:00:00  2022-09\n",
       "\n",
       "[679332 rows x 7 columns]"
      ]
     },
     "execution_count": 32,
     "metadata": {},
     "output_type": "execute_result"
    }
   ],
   "source": [
    "transactions['period'] = transactions['date'].dt.to_period(\"m\")\n",
    "transactions"
   ]
  },
  {
   "cell_type": "markdown",
   "id": "1fb6b724",
   "metadata": {},
   "source": [
    "- Online sales graphical representation from 2021 to 2023 :"
   ]
  },
  {
   "cell_type": "code",
   "execution_count": 33,
   "id": "e990866a",
   "metadata": {},
   "outputs": [
    {
     "data": {
      "image/png": "[encoded data removed]",
      "text/plain": [
       "<Figure size 720x432 with 1 Axes>"
      ]
     },
     "metadata": {
      "needs_background": "light"
     },
     "output_type": "display_data"
    }
   ],
   "source": [
    "transactions[\"period\"].value_counts().reset_index().set_index('index').sort_values(\"index\").plot( figsize=(10,6))\n",
    "plt.ylabel(\"Sales\")\n",
    "plt.title(\"Online sales graphical representation from 2021 to 2023\");"
   ]
  },
  {
   "cell_type": "markdown",
   "id": "d5cf0b14",
   "metadata": {},
   "source": [
    "<a id='another_cell_d'></a>"
   ]
  },
  {
   "cell_type": "markdown",
   "id": "bae67f7d",
   "metadata": {},
   "source": [
    "### 4. Merge Lapage dataframes, explore and clean"
   ]
  },
  {
   "cell_type": "markdown",
   "id": "7ee14a5d",
   "metadata": {},
   "source": [
    "- Merge dataframes :"
   ]
  },
  {
   "cell_type": "code",
   "execution_count": 34,
   "id": "cc49a2bd",
   "metadata": {},
   "outputs": [
    {
     "data": {
      "text/html": [
       "<div>\n",
       "<style scoped>\n",
       "    .dataframe tbody tr th:only-of-type {\n",
       "        vertical-align: middle;\n",
       "    }\n",
       "\n",
       "    .dataframe tbody tr th {\n",
       "        vertical-align: top;\n",
       "    }\n",
       "\n",
       "    .dataframe thead th {\n",
       "        text-align: right;\n",
       "    }\n",
       "</style>\n",
       "<table border=\"1\" class=\"dataframe\">\n",
       "  <thead>\n",
       "    <tr style=\"text-align: right;\">\n",
       "      <th></th>\n",
       "      <th>id_prod</th>\n",
       "      <th>date</th>\n",
       "      <th>session_id</th>\n",
       "      <th>client_id</th>\n",
       "      <th>year</th>\n",
       "      <th>time</th>\n",
       "      <th>period</th>\n",
       "      <th>sex</th>\n",
       "      <th>birth</th>\n",
       "      <th>age</th>\n",
       "      <th>price</th>\n",
       "      <th>categ</th>\n",
       "    </tr>\n",
       "  </thead>\n",
       "  <tbody>\n",
       "    <tr>\n",
       "      <th>0</th>\n",
       "      <td>0_1518</td>\n",
       "      <td>2022-05-20</td>\n",
       "      <td>s_211425</td>\n",
       "      <td>c_103</td>\n",
       "      <td>2022</td>\n",
       "      <td>00:00:00</td>\n",
       "      <td>2022-05</td>\n",
       "      <td>f</td>\n",
       "      <td>1986</td>\n",
       "      <td>36</td>\n",
       "      <td>4.18</td>\n",
       "      <td>0</td>\n",
       "    </tr>\n",
       "    <tr>\n",
       "      <th>1</th>\n",
       "      <td>1_251</td>\n",
       "      <td>2022-02-02</td>\n",
       "      <td>s_158752</td>\n",
       "      <td>c_8534</td>\n",
       "      <td>2022</td>\n",
       "      <td>00:00:00</td>\n",
       "      <td>2022-02</td>\n",
       "      <td>m</td>\n",
       "      <td>1988</td>\n",
       "      <td>34</td>\n",
       "      <td>15.99</td>\n",
       "      <td>1</td>\n",
       "    </tr>\n",
       "    <tr>\n",
       "      <th>2</th>\n",
       "      <td>0_1277</td>\n",
       "      <td>2022-06-18</td>\n",
       "      <td>s_225667</td>\n",
       "      <td>c_6714</td>\n",
       "      <td>2022</td>\n",
       "      <td>00:00:00</td>\n",
       "      <td>2022-06</td>\n",
       "      <td>f</td>\n",
       "      <td>1968</td>\n",
       "      <td>54</td>\n",
       "      <td>7.99</td>\n",
       "      <td>0</td>\n",
       "    </tr>\n",
       "    <tr>\n",
       "      <th>3</th>\n",
       "      <td>2_209</td>\n",
       "      <td>2021-06-24</td>\n",
       "      <td>s_52962</td>\n",
       "      <td>c_6941</td>\n",
       "      <td>2021</td>\n",
       "      <td>00:00:00</td>\n",
       "      <td>2021-06</td>\n",
       "      <td>m</td>\n",
       "      <td>2000</td>\n",
       "      <td>22</td>\n",
       "      <td>69.99</td>\n",
       "      <td>2</td>\n",
       "    </tr>\n",
       "    <tr>\n",
       "      <th>4</th>\n",
       "      <td>0_1509</td>\n",
       "      <td>2023-01-11</td>\n",
       "      <td>s_325227</td>\n",
       "      <td>c_4232</td>\n",
       "      <td>2023</td>\n",
       "      <td>00:00:00</td>\n",
       "      <td>2023-01</td>\n",
       "      <td>m</td>\n",
       "      <td>1980</td>\n",
       "      <td>42</td>\n",
       "      <td>4.99</td>\n",
       "      <td>0</td>\n",
       "    </tr>\n",
       "  </tbody>\n",
       "</table>\n",
       "</div>"
      ],
      "text/plain": [
       "  id_prod       date session_id client_id  year      time   period sex  birth  \\\n",
       "0  0_1518 2022-05-20   s_211425     c_103  2022  00:00:00  2022-05   f   1986   \n",
       "1   1_251 2022-02-02   s_158752    c_8534  2022  00:00:00  2022-02   m   1988   \n",
       "2  0_1277 2022-06-18   s_225667    c_6714  2022  00:00:00  2022-06   f   1968   \n",
       "3   2_209 2021-06-24    s_52962    c_6941  2021  00:00:00  2021-06   m   2000   \n",
       "4  0_1509 2023-01-11   s_325227    c_4232  2023  00:00:00  2023-01   m   1980   \n",
       "\n",
       "   age  price categ  \n",
       "0   36   4.18     0  \n",
       "1   34  15.99     1  \n",
       "2   54   7.99     0  \n",
       "3   22  69.99     2  \n",
       "4   42   4.99     0  "
      ]
     },
     "metadata": {},
     "output_type": "display_data"
    }
   ],
   "source": [
    "lapage_df = transactions.merge(customers, how='left', on='client_id').merge(products, how='left', on='id_prod')\n",
    "display(lapage_df.head())"
   ]
  },
  {
   "cell_type": "markdown",
   "id": "5a88ab3b",
   "metadata": {},
   "source": [
    "- Explore the final result :"
   ]
  },
  {
   "cell_type": "code",
   "execution_count": 35,
   "id": "62713e9e",
   "metadata": {},
   "outputs": [
    {
     "data": {
      "text/plain": [
       "(679332, 12)"
      ]
     },
     "execution_count": 35,
     "metadata": {},
     "output_type": "execute_result"
    }
   ],
   "source": [
    "lapage_df.shape"
   ]
  },
  {
   "cell_type": "code",
   "execution_count": 36,
   "id": "884608bd",
   "metadata": {},
   "outputs": [
    {
     "name": "stdout",
     "output_type": "stream",
     "text": [
      "<class 'pandas.core.frame.DataFrame'>\n",
      "Int64Index: 679332 entries, 0 to 679331\n",
      "Data columns (total 12 columns):\n",
      " #   Column      Non-Null Count   Dtype         \n",
      "---  ------      --------------   -----         \n",
      " 0   id_prod     679332 non-null  object        \n",
      " 1   date        679332 non-null  datetime64[ns]\n",
      " 2   session_id  679332 non-null  object        \n",
      " 3   client_id   679332 non-null  object        \n",
      " 4   year        679332 non-null  int64         \n",
      " 5   time        679332 non-null  object        \n",
      " 6   period      679332 non-null  period[M]     \n",
      " 7   sex         679332 non-null  object        \n",
      " 8   birth       679332 non-null  int64         \n",
      " 9   age         679332 non-null  int64         \n",
      " 10  price       679111 non-null  float64       \n",
      " 11  categ       679111 non-null  category      \n",
      "dtypes: category(1), datetime64[ns](1), float64(1), int64(3), object(5), period[M](1)\n",
      "memory usage: 62.8+ MB\n"
     ]
    }
   ],
   "source": [
    "lapage_df.info()"
   ]
  },
  {
   "cell_type": "markdown",
   "id": "f9d3fa96",
   "metadata": {},
   "source": [
    "<div class=\"alert-danger\">\n",
    "    <u>Danger</u> :\n",
    "<i><br><li> Columns \"price\" and \"categ\" have missing values</br></li>\n",
    "</i></div>"
   ]
  },
  {
   "cell_type": "code",
   "execution_count": 37,
   "id": "056749f1",
   "metadata": {},
   "outputs": [
    {
     "name": "stdout",
     "output_type": "stream",
     "text": [
      "The column price contain  221  missing values\n",
      "The column categ contain  221  missing values\n"
     ]
    }
   ],
   "source": [
    "check_nan(lapage_df, \"price\")\n",
    "check_nan(lapage_df, \"categ\")"
   ]
  },
  {
   "cell_type": "markdown",
   "id": "50198b28",
   "metadata": {},
   "source": [
    "- Check mask values :"
   ]
  },
  {
   "cell_type": "code",
   "execution_count": 38,
   "id": "75e46848",
   "metadata": {},
   "outputs": [
    {
     "name": "stdout",
     "output_type": "stream",
     "text": [
      "Missing values concern those products : ['0_2245']\n"
     ]
    }
   ],
   "source": [
    "mask_nan = (lapage_df['price'].isnull()) | (lapage_df['categ'].isnull())\n",
    "print(\"Missing values concern those products :\", lapage_df[mask_nan][\"id_prod\"].unique())"
   ]
  },
  {
   "cell_type": "markdown",
   "id": "943c116e",
   "metadata": {},
   "source": [
    "- Check id_prod '0_2245' in products df :"
   ]
  },
  {
   "cell_type": "code",
   "execution_count": 39,
   "id": "a87069cf",
   "metadata": {},
   "outputs": [
    {
     "data": {
      "text/html": [
       "<div>\n",
       "<style scoped>\n",
       "    .dataframe tbody tr th:only-of-type {\n",
       "        vertical-align: middle;\n",
       "    }\n",
       "\n",
       "    .dataframe tbody tr th {\n",
       "        vertical-align: top;\n",
       "    }\n",
       "\n",
       "    .dataframe thead th {\n",
       "        text-align: right;\n",
       "    }\n",
       "</style>\n",
       "<table border=\"1\" class=\"dataframe\">\n",
       "  <thead>\n",
       "    <tr style=\"text-align: right;\">\n",
       "      <th></th>\n",
       "      <th>id_prod</th>\n",
       "      <th>price</th>\n",
       "      <th>categ</th>\n",
       "    </tr>\n",
       "  </thead>\n",
       "  <tbody>\n",
       "  </tbody>\n",
       "</table>\n",
       "</div>"
      ],
      "text/plain": [
       "Empty DataFrame\n",
       "Columns: [id_prod, price, categ]\n",
       "Index: []"
      ]
     },
     "execution_count": 39,
     "metadata": {},
     "output_type": "execute_result"
    }
   ],
   "source": [
    "products[products[\"id_prod\"]==\"0_2245\" ]"
   ]
  },
  {
   "cell_type": "markdown",
   "id": "e24ae1f6",
   "metadata": {},
   "source": [
    "<div class=\"alert-danger\">\n",
    "    <u>Danger</u> :\n",
    "<i><br><li> The product '0_2245' is not listed in products df</br></li>\n",
    "<i><li> The product '0_2245' was saled 221 times</li>\n",
    "<i><li> The product '0_2245' starts with 0_xxxx, so it belongs to the category 0</li>\n",
    "<i><li> We must keep this product in the final result and assign it an average price: the category 0's one</li>\n",
    "</i></div>"
   ]
  },
  {
   "cell_type": "markdown",
   "id": "b398f9b0",
   "metadata": {},
   "source": [
    "- Clean the final result : "
   ]
  },
  {
   "cell_type": "code",
   "execution_count": 40,
   "id": "be122741",
   "metadata": {},
   "outputs": [
    {
     "data": {
      "text/html": [
       "<div>\n",
       "<style scoped>\n",
       "    .dataframe tbody tr th:only-of-type {\n",
       "        vertical-align: middle;\n",
       "    }\n",
       "\n",
       "    .dataframe tbody tr th {\n",
       "        vertical-align: top;\n",
       "    }\n",
       "\n",
       "    .dataframe thead th {\n",
       "        text-align: right;\n",
       "    }\n",
       "</style>\n",
       "<table border=\"1\" class=\"dataframe\">\n",
       "  <thead>\n",
       "    <tr style=\"text-align: right;\">\n",
       "      <th></th>\n",
       "      <th>id_prod</th>\n",
       "      <th>date</th>\n",
       "      <th>session_id</th>\n",
       "      <th>client_id</th>\n",
       "      <th>year</th>\n",
       "      <th>time</th>\n",
       "      <th>period</th>\n",
       "      <th>sex</th>\n",
       "      <th>birth</th>\n",
       "      <th>age</th>\n",
       "      <th>price</th>\n",
       "      <th>categ</th>\n",
       "    </tr>\n",
       "  </thead>\n",
       "  <tbody>\n",
       "    <tr>\n",
       "      <th>2633</th>\n",
       "      <td>0_2245</td>\n",
       "      <td>2022-09-23</td>\n",
       "      <td>s_272266</td>\n",
       "      <td>c_4746</td>\n",
       "      <td>2022</td>\n",
       "      <td>00:00:00</td>\n",
       "      <td>2022-09</td>\n",
       "      <td>m</td>\n",
       "      <td>1940</td>\n",
       "      <td>82</td>\n",
       "      <td>10.64</td>\n",
       "      <td>0</td>\n",
       "    </tr>\n",
       "    <tr>\n",
       "      <th>10103</th>\n",
       "      <td>0_2245</td>\n",
       "      <td>2022-07-23</td>\n",
       "      <td>s_242482</td>\n",
       "      <td>c_6713</td>\n",
       "      <td>2022</td>\n",
       "      <td>00:00:00</td>\n",
       "      <td>2022-07</td>\n",
       "      <td>f</td>\n",
       "      <td>1963</td>\n",
       "      <td>59</td>\n",
       "      <td>10.64</td>\n",
       "      <td>0</td>\n",
       "    </tr>\n",
       "    <tr>\n",
       "      <th>11723</th>\n",
       "      <td>0_2245</td>\n",
       "      <td>2022-12-03</td>\n",
       "      <td>s_306338</td>\n",
       "      <td>c_5108</td>\n",
       "      <td>2022</td>\n",
       "      <td>00:00:00</td>\n",
       "      <td>2022-12</td>\n",
       "      <td>m</td>\n",
       "      <td>1978</td>\n",
       "      <td>44</td>\n",
       "      <td>10.64</td>\n",
       "      <td>0</td>\n",
       "    </tr>\n",
       "    <tr>\n",
       "      <th>15670</th>\n",
       "      <td>0_2245</td>\n",
       "      <td>2021-08-16</td>\n",
       "      <td>s_76493</td>\n",
       "      <td>c_1391</td>\n",
       "      <td>2021</td>\n",
       "      <td>00:00:00</td>\n",
       "      <td>2021-08</td>\n",
       "      <td>m</td>\n",
       "      <td>1991</td>\n",
       "      <td>31</td>\n",
       "      <td>10.64</td>\n",
       "      <td>0</td>\n",
       "    </tr>\n",
       "    <tr>\n",
       "      <th>16372</th>\n",
       "      <td>0_2245</td>\n",
       "      <td>2022-07-16</td>\n",
       "      <td>s_239078</td>\n",
       "      <td>c_7954</td>\n",
       "      <td>2022</td>\n",
       "      <td>00:00:00</td>\n",
       "      <td>2022-07</td>\n",
       "      <td>m</td>\n",
       "      <td>1973</td>\n",
       "      <td>49</td>\n",
       "      <td>10.64</td>\n",
       "      <td>0</td>\n",
       "    </tr>\n",
       "  </tbody>\n",
       "</table>\n",
       "</div>"
      ],
      "text/plain": [
       "      id_prod       date session_id client_id  year      time   period sex  \\\n",
       "2633   0_2245 2022-09-23   s_272266    c_4746  2022  00:00:00  2022-09   m   \n",
       "10103  0_2245 2022-07-23   s_242482    c_6713  2022  00:00:00  2022-07   f   \n",
       "11723  0_2245 2022-12-03   s_306338    c_5108  2022  00:00:00  2022-12   m   \n",
       "15670  0_2245 2021-08-16    s_76493    c_1391  2021  00:00:00  2021-08   m   \n",
       "16372  0_2245 2022-07-16   s_239078    c_7954  2022  00:00:00  2022-07   m   \n",
       "\n",
       "       birth  age  price categ  \n",
       "2633    1940   82  10.64     0  \n",
       "10103   1963   59  10.64     0  \n",
       "11723   1978   44  10.64     0  \n",
       "15670   1991   31  10.64     0  \n",
       "16372   1973   49  10.64     0  "
      ]
     },
     "execution_count": 40,
     "metadata": {},
     "output_type": "execute_result"
    }
   ],
   "source": [
    "categ_0_mean = round(lapage_df[lapage_df[\"categ\"]==0][\"price\"].mean(),2)#categ 0 average price\n",
    "\n",
    "lapage_df.loc[lapage_df[\"id_prod\"]==\"0_2245\", \"price\"] = categ_0_mean#categ 0 average price inputation\n",
    "\n",
    "lapage_df.loc[lapage_df[\"id_prod\"]==\"0_2245\", \"categ\"] = 0#categ 0 inputation on categ\n",
    "\n",
    "lapage_df[lapage_df[\"id_prod\"]==\"0_2245\"].head()#final chek"
   ]
  },
  {
   "cell_type": "code",
   "execution_count": 41,
   "id": "672fd468",
   "metadata": {},
   "outputs": [
    {
     "name": "stdout",
     "output_type": "stream",
     "text": [
      "<class 'pandas.core.frame.DataFrame'>\n",
      "Int64Index: 679332 entries, 0 to 679331\n",
      "Data columns (total 12 columns):\n",
      " #   Column      Non-Null Count   Dtype         \n",
      "---  ------      --------------   -----         \n",
      " 0   id_prod     679332 non-null  object        \n",
      " 1   date        679332 non-null  datetime64[ns]\n",
      " 2   session_id  679332 non-null  object        \n",
      " 3   client_id   679332 non-null  object        \n",
      " 4   year        679332 non-null  int64         \n",
      " 5   time        679332 non-null  object        \n",
      " 6   period      679332 non-null  period[M]     \n",
      " 7   sex         679332 non-null  object        \n",
      " 8   birth       679332 non-null  int64         \n",
      " 9   age         679332 non-null  int64         \n",
      " 10  price       679332 non-null  float64       \n",
      " 11  categ       679332 non-null  category      \n",
      "dtypes: category(1), datetime64[ns](1), float64(1), int64(3), object(5), period[M](1)\n",
      "memory usage: 62.8+ MB\n"
     ]
    }
   ],
   "source": [
    "lapage_df.info()"
   ]
  },
  {
   "cell_type": "markdown",
   "id": "b95727fa",
   "metadata": {},
   "source": [
    "<div class=\"alert-success\">\n",
    "    <u>Conclusion</u> :\n",
    "<i><br><li> There are 679,332 transactions in the final dataframe :</br></li>\n",
    "<i>----> The test product T_0 has been deleted (200 lines)</i>\n",
    "<i><br>----> The missing price of product 0_2245 has been updated by the category 0's products average price (221 lines)</br></i>\n",
    "<i><br>----> 157 outliers have been detected on price</i></br>\n",
    "</i></div>"
   ]
  },
  {
   "cell_type": "code",
   "execution_count": 42,
   "id": "7bd56fba",
   "metadata": {},
   "outputs": [
    {
     "data": {
      "text/html": [
       "<div>\n",
       "<style scoped>\n",
       "    .dataframe tbody tr th:only-of-type {\n",
       "        vertical-align: middle;\n",
       "    }\n",
       "\n",
       "    .dataframe tbody tr th {\n",
       "        vertical-align: top;\n",
       "    }\n",
       "\n",
       "    .dataframe thead th {\n",
       "        text-align: right;\n",
       "    }\n",
       "</style>\n",
       "<table border=\"1\" class=\"dataframe\">\n",
       "  <thead>\n",
       "    <tr style=\"text-align: right;\">\n",
       "      <th></th>\n",
       "      <th>id_prod</th>\n",
       "      <th>date</th>\n",
       "      <th>session_id</th>\n",
       "      <th>client_id</th>\n",
       "      <th>year</th>\n",
       "      <th>time</th>\n",
       "      <th>period</th>\n",
       "      <th>sex</th>\n",
       "      <th>birth</th>\n",
       "      <th>age</th>\n",
       "      <th>price</th>\n",
       "      <th>categ</th>\n",
       "    </tr>\n",
       "  </thead>\n",
       "  <tbody>\n",
       "    <tr>\n",
       "      <th>0</th>\n",
       "      <td>0_1518</td>\n",
       "      <td>2022-05-20</td>\n",
       "      <td>s_211425</td>\n",
       "      <td>c_103</td>\n",
       "      <td>2022</td>\n",
       "      <td>00:00:00</td>\n",
       "      <td>2022-05</td>\n",
       "      <td>f</td>\n",
       "      <td>1986</td>\n",
       "      <td>36</td>\n",
       "      <td>4.18</td>\n",
       "      <td>0</td>\n",
       "    </tr>\n",
       "    <tr>\n",
       "      <th>1</th>\n",
       "      <td>1_251</td>\n",
       "      <td>2022-02-02</td>\n",
       "      <td>s_158752</td>\n",
       "      <td>c_8534</td>\n",
       "      <td>2022</td>\n",
       "      <td>00:00:00</td>\n",
       "      <td>2022-02</td>\n",
       "      <td>m</td>\n",
       "      <td>1988</td>\n",
       "      <td>34</td>\n",
       "      <td>15.99</td>\n",
       "      <td>1</td>\n",
       "    </tr>\n",
       "    <tr>\n",
       "      <th>2</th>\n",
       "      <td>0_1277</td>\n",
       "      <td>2022-06-18</td>\n",
       "      <td>s_225667</td>\n",
       "      <td>c_6714</td>\n",
       "      <td>2022</td>\n",
       "      <td>00:00:00</td>\n",
       "      <td>2022-06</td>\n",
       "      <td>f</td>\n",
       "      <td>1968</td>\n",
       "      <td>54</td>\n",
       "      <td>7.99</td>\n",
       "      <td>0</td>\n",
       "    </tr>\n",
       "    <tr>\n",
       "      <th>3</th>\n",
       "      <td>2_209</td>\n",
       "      <td>2021-06-24</td>\n",
       "      <td>s_52962</td>\n",
       "      <td>c_6941</td>\n",
       "      <td>2021</td>\n",
       "      <td>00:00:00</td>\n",
       "      <td>2021-06</td>\n",
       "      <td>m</td>\n",
       "      <td>2000</td>\n",
       "      <td>22</td>\n",
       "      <td>69.99</td>\n",
       "      <td>2</td>\n",
       "    </tr>\n",
       "    <tr>\n",
       "      <th>4</th>\n",
       "      <td>0_1509</td>\n",
       "      <td>2023-01-11</td>\n",
       "      <td>s_325227</td>\n",
       "      <td>c_4232</td>\n",
       "      <td>2023</td>\n",
       "      <td>00:00:00</td>\n",
       "      <td>2023-01</td>\n",
       "      <td>m</td>\n",
       "      <td>1980</td>\n",
       "      <td>42</td>\n",
       "      <td>4.99</td>\n",
       "      <td>0</td>\n",
       "    </tr>\n",
       "    <tr>\n",
       "      <th>...</th>\n",
       "      <td>...</td>\n",
       "      <td>...</td>\n",
       "      <td>...</td>\n",
       "      <td>...</td>\n",
       "      <td>...</td>\n",
       "      <td>...</td>\n",
       "      <td>...</td>\n",
       "      <td>...</td>\n",
       "      <td>...</td>\n",
       "      <td>...</td>\n",
       "      <td>...</td>\n",
       "      <td>...</td>\n",
       "    </tr>\n",
       "    <tr>\n",
       "      <th>679327</th>\n",
       "      <td>0_1551</td>\n",
       "      <td>2022-01-15</td>\n",
       "      <td>s_150195</td>\n",
       "      <td>c_8489</td>\n",
       "      <td>2022</td>\n",
       "      <td>00:00:00</td>\n",
       "      <td>2022-01</td>\n",
       "      <td>f</td>\n",
       "      <td>1951</td>\n",
       "      <td>71</td>\n",
       "      <td>12.99</td>\n",
       "      <td>0</td>\n",
       "    </tr>\n",
       "    <tr>\n",
       "      <th>679328</th>\n",
       "      <td>1_639</td>\n",
       "      <td>2022-03-19</td>\n",
       "      <td>s_181434</td>\n",
       "      <td>c_4370</td>\n",
       "      <td>2022</td>\n",
       "      <td>00:00:00</td>\n",
       "      <td>2022-03</td>\n",
       "      <td>f</td>\n",
       "      <td>1977</td>\n",
       "      <td>45</td>\n",
       "      <td>10.99</td>\n",
       "      <td>1</td>\n",
       "    </tr>\n",
       "    <tr>\n",
       "      <th>679329</th>\n",
       "      <td>0_1425</td>\n",
       "      <td>2022-12-20</td>\n",
       "      <td>s_314704</td>\n",
       "      <td>c_304</td>\n",
       "      <td>2022</td>\n",
       "      <td>00:00:00</td>\n",
       "      <td>2022-12</td>\n",
       "      <td>f</td>\n",
       "      <td>1988</td>\n",
       "      <td>34</td>\n",
       "      <td>12.99</td>\n",
       "      <td>0</td>\n",
       "    </tr>\n",
       "    <tr>\n",
       "      <th>679330</th>\n",
       "      <td>0_1994</td>\n",
       "      <td>2021-07-16</td>\n",
       "      <td>s_63204</td>\n",
       "      <td>c_2227</td>\n",
       "      <td>2021</td>\n",
       "      <td>00:00:00</td>\n",
       "      <td>2021-07</td>\n",
       "      <td>m</td>\n",
       "      <td>1986</td>\n",
       "      <td>36</td>\n",
       "      <td>4.98</td>\n",
       "      <td>0</td>\n",
       "    </tr>\n",
       "    <tr>\n",
       "      <th>679331</th>\n",
       "      <td>1_523</td>\n",
       "      <td>2022-09-28</td>\n",
       "      <td>s_274568</td>\n",
       "      <td>c_3873</td>\n",
       "      <td>2022</td>\n",
       "      <td>00:00:00</td>\n",
       "      <td>2022-09</td>\n",
       "      <td>m</td>\n",
       "      <td>1995</td>\n",
       "      <td>27</td>\n",
       "      <td>23.99</td>\n",
       "      <td>1</td>\n",
       "    </tr>\n",
       "  </tbody>\n",
       "</table>\n",
       "<p>679332 rows × 12 columns</p>\n",
       "</div>"
      ],
      "text/plain": [
       "       id_prod       date session_id client_id  year      time   period sex  \\\n",
       "0       0_1518 2022-05-20   s_211425     c_103  2022  00:00:00  2022-05   f   \n",
       "1        1_251 2022-02-02   s_158752    c_8534  2022  00:00:00  2022-02   m   \n",
       "2       0_1277 2022-06-18   s_225667    c_6714  2022  00:00:00  2022-06   f   \n",
       "3        2_209 2021-06-24    s_52962    c_6941  2021  00:00:00  2021-06   m   \n",
       "4       0_1509 2023-01-11   s_325227    c_4232  2023  00:00:00  2023-01   m   \n",
       "...        ...        ...        ...       ...   ...       ...      ...  ..   \n",
       "679327  0_1551 2022-01-15   s_150195    c_8489  2022  00:00:00  2022-01   f   \n",
       "679328   1_639 2022-03-19   s_181434    c_4370  2022  00:00:00  2022-03   f   \n",
       "679329  0_1425 2022-12-20   s_314704     c_304  2022  00:00:00  2022-12   f   \n",
       "679330  0_1994 2021-07-16    s_63204    c_2227  2021  00:00:00  2021-07   m   \n",
       "679331   1_523 2022-09-28   s_274568    c_3873  2022  00:00:00  2022-09   m   \n",
       "\n",
       "        birth  age  price categ  \n",
       "0        1986   36   4.18     0  \n",
       "1        1988   34  15.99     1  \n",
       "2        1968   54   7.99     0  \n",
       "3        2000   22  69.99     2  \n",
       "4        1980   42   4.99     0  \n",
       "...       ...  ...    ...   ...  \n",
       "679327   1951   71  12.99     0  \n",
       "679328   1977   45  10.99     1  \n",
       "679329   1988   34  12.99     0  \n",
       "679330   1986   36   4.98     0  \n",
       "679331   1995   27  23.99     1  \n",
       "\n",
       "[679332 rows x 12 columns]"
      ]
     },
     "execution_count": 42,
     "metadata": {},
     "output_type": "execute_result"
    }
   ],
   "source": [
    "lapage_df"
   ]
  },
  {
   "cell_type": "markdown",
   "id": "f9fb266e",
   "metadata": {},
   "source": [
    " "
   ]
  },
  {
   "cell_type": "markdown",
   "id": "18553c2e",
   "metadata": {},
   "source": [
    " "
   ]
  },
  {
   "cell_type": "markdown",
   "id": "7ad17462",
   "metadata": {},
   "source": [
    "## II. Sales indicators analysis"
   ]
  },
  {
   "cell_type": "markdown",
   "id": "22c38cd6",
   "metadata": {},
   "source": [
    "### 1. Total sales"
   ]
  },
  {
   "cell_type": "markdown",
   "id": "e19dab37",
   "metadata": {},
   "source": [
    "<a id='another_cell_e'></a>"
   ]
  },
  {
   "cell_type": "markdown",
   "id": "aa6a4295",
   "metadata": {},
   "source": [
    "#### a. Total sales by category"
   ]
  },
  {
   "cell_type": "code",
   "execution_count": 51,
   "id": "36236f8c",
   "metadata": {},
   "outputs": [
    {
     "data": {
      "text/html": [
       "<div>\n",
       "<style scoped>\n",
       "    .dataframe tbody tr th:only-of-type {\n",
       "        vertical-align: middle;\n",
       "    }\n",
       "\n",
       "    .dataframe tbody tr th {\n",
       "        vertical-align: top;\n",
       "    }\n",
       "\n",
       "    .dataframe thead th {\n",
       "        text-align: right;\n",
       "    }\n",
       "</style>\n",
       "<table border=\"1\" class=\"dataframe\">\n",
       "  <thead>\n",
       "    <tr style=\"text-align: right;\">\n",
       "      <th></th>\n",
       "      <th>total sales (€)</th>\n",
       "      <th>total sales (units)</th>\n",
       "    </tr>\n",
       "    <tr>\n",
       "      <th>categ</th>\n",
       "      <th></th>\n",
       "      <th></th>\n",
       "    </tr>\n",
       "  </thead>\n",
       "  <tbody>\n",
       "    <tr>\n",
       "      <th>0</th>\n",
       "      <td>4422082.41</td>\n",
       "      <td>415680</td>\n",
       "    </tr>\n",
       "    <tr>\n",
       "      <th>1</th>\n",
       "      <td>4653722.69</td>\n",
       "      <td>227169</td>\n",
       "    </tr>\n",
       "    <tr>\n",
       "      <th>2</th>\n",
       "      <td>2780275.02</td>\n",
       "      <td>36483</td>\n",
       "    </tr>\n",
       "  </tbody>\n",
       "</table>\n",
       "</div>"
      ],
      "text/plain": [
       "       total sales (€)  total sales (units)\n",
       "categ                                      \n",
       "0           4422082.41               415680\n",
       "1           4653722.69               227169\n",
       "2           2780275.02                36483"
      ]
     },
     "execution_count": 51,
     "metadata": {},
     "output_type": "execute_result"
    }
   ],
   "source": [
    "lapage_categ = lapage_df.groupby([\"categ\"]).agg({\"price\":\"sum\", \"id_prod\":\"count\"})\n",
    "lapage_categ.rename(columns={\"id_prod\":\"total sales (units)\", \"price\":\"total sales (€)\"}, inplace=True)\n",
    "lapage_categ.round({\"total sales (€)\":2})"
   ]
  },
  {
   "cell_type": "markdown",
   "id": "388b3a81",
   "metadata": {},
   "source": [
    "<a id='another_cell_f'></a>"
   ]
  },
  {
   "cell_type": "markdown",
   "id": "12972778",
   "metadata": {},
   "source": [
    "#### b. Total sales by age group"
   ]
  },
  {
   "cell_type": "code",
   "execution_count": null,
   "id": "694b43db",
   "metadata": {},
   "outputs": [],
   "source": []
  },
  {
   "cell_type": "markdown",
   "id": "5fcfe856",
   "metadata": {},
   "source": [
    "<a id='another_cell_g'></a>"
   ]
  },
  {
   "cell_type": "markdown",
   "id": "32ecf043",
   "metadata": {},
   "source": [
    "#### b. Total sales by period"
   ]
  },
  {
   "cell_type": "code",
   "execution_count": null,
   "id": "2baff0d4",
   "metadata": {},
   "outputs": [],
   "source": []
  },
  {
   "cell_type": "markdown",
   "id": "5a5c629d",
   "metadata": {},
   "source": [
    " "
   ]
  },
  {
   "cell_type": "markdown",
   "id": "199a4e9b",
   "metadata": {},
   "source": [
    "### 2. ..."
   ]
  },
  {
   "cell_type": "markdown",
   "id": "3c7f0f66",
   "metadata": {},
   "source": [
    " <a id='another_cell_i'></a>"
   ]
  },
  {
   "cell_type": "markdown",
   "id": "34f7ff04",
   "metadata": {},
   "source": [
    "#### a. ..."
   ]
  },
  {
   "cell_type": "code",
   "execution_count": null,
   "id": "f7c10201",
   "metadata": {},
   "outputs": [],
   "source": []
  },
  {
   "cell_type": "markdown",
   "id": "dc32a77a",
   "metadata": {},
   "source": [
    " <a id='another_cell_j'></a>"
   ]
  },
  {
   "cell_type": "markdown",
   "id": "57b1f9a8",
   "metadata": {},
   "source": [
    "#### b. ..."
   ]
  },
  {
   "cell_type": "code",
   "execution_count": null,
   "id": "e158cb88",
   "metadata": {},
   "outputs": [],
   "source": []
  }
 ],
 "metadata": {
  "kernelspec": {
   "display_name": "Python 3",
   "language": "python",
   "name": "python3"
  },
  "language_info": {
   "codemirror_mode": {
    "name": "ipython",
    "version": 3
   },
   "file_extension": ".py",
   "mimetype": "text/x-python",
   "name": "python",
   "nbconvert_exporter": "python",
   "pygments_lexer": "ipython3",
   "version": "3.8.8"
  }
 },
 "nbformat": 4,
 "nbformat_minor": 5
}
