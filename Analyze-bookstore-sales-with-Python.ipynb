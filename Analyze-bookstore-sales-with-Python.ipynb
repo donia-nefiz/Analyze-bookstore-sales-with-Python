{
 "cells": [
  {
   "cell_type": "markdown",
   "id": "f8b22c1d",
   "metadata": {},
   "source": [
    "# Analyze bookstore sales with Python"
   ]
  },
  {
   "cell_type": "markdown",
   "id": "e0e867f8",
   "metadata": {},
   "source": [
    " "
   ]
  },
  {
   "cell_type": "markdown",
   "id": "2f514382",
   "metadata": {},
   "source": [
    "My mission here for Lapage is to analyse the strengths, weaknesses and customer behavior of Lapage.\n",
    "\n",
    "I was also asked to ...\n",
    " <br></br>\n",
    " \n",
    "<u> Summary</u> :\n",
    "\n",
    " Tools\n",
    "\n",
    " I. Explore and clean <a href=\"https://github.com/donia-nefiz/Analyze-bookstore-sales-with-Python\" target=\"_blank\">Lapage data</a>\n",
    "     <br>*1. [customers.csv](http://localhost:8888/edit/customers.csv) : exploration and data cleaning [(here)](#another_cell_a)*</br>\n",
    "     <br>*2. [products.csv](http://localhost:8888/edit/products.csv) : exploration and data cleaning [(here)](#another_cell_b)*</br>\n",
    "     <br>*3. [transactions.csv](http://localhost:8888/edit/transactions.csv) : exploration and data cleaning [(here)](#another_cell_c)*</br>\n",
    "     <br>*4. ...\n",
    "         <br>*-- a. .... [(here)](#another_cell_d)</br>*\n",
    "         <br>*-- b. ... [(here)](#another_cell_e)</br>*\n",
    "          <br>*--c. ... [(here)](#another_cell_f)</br>*\n",
    "\n",
    "\n",
    "II. ...\n",
    "    <br>1. ...</br>\n",
    "    <br>*-- a. ... [(here)](#another_cell_g)</br>*\n",
    "    <br>*-- b. ... [(here)](#another_cell_h)</br>*\n",
    "    <br>2. ...</br>\n",
    "    <br>*-- a. ... [(here)](#another_cell_i)</br>*\n",
    "    <br>*-- b. ... [(here)](#another_cell_j)</br>*\n",
    "<br></br>   "
   ]
  },
  {
   "cell_type": "markdown",
   "id": "a8dc4e3a",
   "metadata": {},
   "source": [
    " "
   ]
  },
  {
   "cell_type": "markdown",
   "id": "aa3a3a62",
   "metadata": {},
   "source": [
    "## I. Lapage data, files exploration and data cleaning"
   ]
  },
  {
   "cell_type": "markdown",
   "id": "3cb10302",
   "metadata": {},
   "source": [
    "### Tools"
   ]
  },
  {
   "cell_type": "code",
   "execution_count": 68,
   "id": "95056797",
   "metadata": {},
   "outputs": [],
   "source": [
    "import numpy as np\n",
    "import pandas as pd\n",
    "import matplotlib.pyplot as plt\n",
    "import datetime as dt\n",
    "import seaborn as sns\n",
    "import warnings"
   ]
  },
  {
   "cell_type": "code",
   "execution_count": 71,
   "id": "3da6d1eb",
   "metadata": {},
   "outputs": [],
   "source": [
    "#Check null values function :\n",
    "def check_nan(data, column):\n",
    "    if len(data[data[column].isnull()]) == 0:\n",
    "        print (\"The column\", column, \"does not contain any missing values\")\n",
    "    else :\n",
    "        print(\"The column\", column, \"contain \", len(data[data[column].isnull()]), \" missing values\")"
   ]
  },
  {
   "cell_type": "code",
   "execution_count": 79,
   "id": "82dcba0c",
   "metadata": {},
   "outputs": [],
   "source": [
    "#Check duplicates function :\n",
    "def check_duplicates(data, column):\n",
    "    n = len(data.index)\n",
    "    if len(data[column].drop_duplicates()) == n :\n",
    "        print (\"The column\", column, \"does not contain duplicates\")\n",
    "    else :\n",
    "        print(\"The column\", column, \"contains \", len(data[data[column].duplicated()]), \" duplicates.\")\n",
    "        return data[data[column].duplicated()]"
   ]
  },
  {
   "cell_type": "code",
   "execution_count": 74,
   "id": "6be9e604",
   "metadata": {},
   "outputs": [],
   "source": [
    "# Check outliers function :\n",
    "outliers=[]\n",
    "def check_outliers(data):\n",
    "    threshold = 2\n",
    "    mean = np.mean(data)\n",
    "    std = np.std(data)\n",
    "    \n",
    "    for i in data:\n",
    "        z_score = (i- mean)/std\n",
    "        if z_score > threshold:\n",
    "            outliers.append(i)\n",
    "    print(\"The number of outliers detected is about  \" + str(len(outliers)))"
   ]
  },
  {
   "cell_type": "markdown",
   "id": "7f81ccd1",
   "metadata": {},
   "source": [
    " "
   ]
  },
  {
   "cell_type": "markdown",
   "id": "13fe5590",
   "metadata": {},
   "source": [
    "### 1. [customers.csv](http://localhost:8888/edit/customers.csv) : exploration and data cleaning"
   ]
  },
  {
   "cell_type": "markdown",
   "id": "a0f710aa",
   "metadata": {},
   "source": [
    "- Loading file:"
   ]
  },
  {
   "cell_type": "code",
   "execution_count": 69,
   "id": "045b66e5",
   "metadata": {},
   "outputs": [],
   "source": [
    "customers = pd.read_csv('customers.csv', sep=';')"
   ]
  },
  {
   "cell_type": "markdown",
   "id": "1442e77f",
   "metadata": {},
   "source": [
    "- First 5 rows display :"
   ]
  },
  {
   "cell_type": "code",
   "execution_count": 4,
   "id": "49a5be12",
   "metadata": {},
   "outputs": [
    {
     "data": {
      "text/html": [
       "<div>\n",
       "<style scoped>\n",
       "    .dataframe tbody tr th:only-of-type {\n",
       "        vertical-align: middle;\n",
       "    }\n",
       "\n",
       "    .dataframe tbody tr th {\n",
       "        vertical-align: top;\n",
       "    }\n",
       "\n",
       "    .dataframe thead th {\n",
       "        text-align: right;\n",
       "    }\n",
       "</style>\n",
       "<table border=\"1\" class=\"dataframe\">\n",
       "  <thead>\n",
       "    <tr style=\"text-align: right;\">\n",
       "      <th></th>\n",
       "      <th>client_id</th>\n",
       "      <th>sex</th>\n",
       "      <th>birth</th>\n",
       "    </tr>\n",
       "  </thead>\n",
       "  <tbody>\n",
       "    <tr>\n",
       "      <th>0</th>\n",
       "      <td>c_4410</td>\n",
       "      <td>f</td>\n",
       "      <td>1967</td>\n",
       "    </tr>\n",
       "    <tr>\n",
       "      <th>1</th>\n",
       "      <td>c_7839</td>\n",
       "      <td>f</td>\n",
       "      <td>1975</td>\n",
       "    </tr>\n",
       "    <tr>\n",
       "      <th>2</th>\n",
       "      <td>c_1699</td>\n",
       "      <td>f</td>\n",
       "      <td>1984</td>\n",
       "    </tr>\n",
       "    <tr>\n",
       "      <th>3</th>\n",
       "      <td>c_5961</td>\n",
       "      <td>f</td>\n",
       "      <td>1962</td>\n",
       "    </tr>\n",
       "    <tr>\n",
       "      <th>4</th>\n",
       "      <td>c_5320</td>\n",
       "      <td>m</td>\n",
       "      <td>1943</td>\n",
       "    </tr>\n",
       "  </tbody>\n",
       "</table>\n",
       "</div>"
      ],
      "text/plain": [
       "  client_id sex  birth\n",
       "0    c_4410   f   1967\n",
       "1    c_7839   f   1975\n",
       "2    c_1699   f   1984\n",
       "3    c_5961   f   1962\n",
       "4    c_5320   m   1943"
      ]
     },
     "execution_count": 4,
     "metadata": {},
     "output_type": "execute_result"
    }
   ],
   "source": [
    "customers.head()"
   ]
  },
  {
   "cell_type": "markdown",
   "id": "ff790a4c",
   "metadata": {},
   "source": [
    "- Number of rows and columns :"
   ]
  },
  {
   "cell_type": "code",
   "execution_count": 5,
   "id": "7b00a5ae",
   "metadata": {},
   "outputs": [
    {
     "data": {
      "text/plain": [
       "(8623, 3)"
      ]
     },
     "execution_count": 5,
     "metadata": {},
     "output_type": "execute_result"
    }
   ],
   "source": [
    "customers.shape"
   ]
  },
  {
   "cell_type": "markdown",
   "id": "f8ed62a1",
   "metadata": {},
   "source": [
    "- .info display :"
   ]
  },
  {
   "cell_type": "code",
   "execution_count": 16,
   "id": "9e58bc0e",
   "metadata": {},
   "outputs": [
    {
     "name": "stdout",
     "output_type": "stream",
     "text": [
      "<class 'pandas.core.frame.DataFrame'>\n",
      "RangeIndex: 8623 entries, 0 to 8622\n",
      "Data columns (total 3 columns):\n",
      " #   Column     Non-Null Count  Dtype \n",
      "---  ------     --------------  ----- \n",
      " 0   client_id  8623 non-null   object\n",
      " 1   sex        8623 non-null   object\n",
      " 2   birth      8623 non-null   int64 \n",
      "dtypes: int64(1), object(2)\n",
      "memory usage: 202.2+ KB\n"
     ]
    }
   ],
   "source": [
    "customers.info()"
   ]
  },
  {
   "cell_type": "markdown",
   "id": "d3732f6f",
   "metadata": {},
   "source": [
    "- Check null and duplicates values :"
   ]
  },
  {
   "cell_type": "code",
   "execution_count": 81,
   "id": "7444fc2b",
   "metadata": {},
   "outputs": [
    {
     "name": "stdout",
     "output_type": "stream",
     "text": [
      "The column client_id does not contain any missing values\n",
      "The column client_id does not contain duplicates\n"
     ]
    }
   ],
   "source": [
    "check_nan(customers, \"client_id\")\n",
    "check_duplicates(customers, \"client_id\")"
   ]
  },
  {
   "cell_type": "markdown",
   "id": "d877e2f0",
   "metadata": {},
   "source": [
    " <a id='another_cell_b'></a>\n"
   ]
  },
  {
   "cell_type": "markdown",
   "id": "7a86823f",
   "metadata": {},
   "source": [
    "### 2. [products.csv](http://localhost:8888/edit/products.csv) : exploration and data cleaning*"
   ]
  },
  {
   "cell_type": "markdown",
   "id": "82925741",
   "metadata": {},
   "source": [
    "- Loading file:"
   ]
  },
  {
   "cell_type": "code",
   "execution_count": 12,
   "id": "38e7d46c",
   "metadata": {},
   "outputs": [],
   "source": [
    "products = pd.read_csv('products.csv', sep=';')"
   ]
  },
  {
   "cell_type": "markdown",
   "id": "8932303b",
   "metadata": {},
   "source": [
    "- First 5 rows display :"
   ]
  },
  {
   "cell_type": "code",
   "execution_count": 13,
   "id": "05ce6096",
   "metadata": {},
   "outputs": [
    {
     "data": {
      "text/html": [
       "<div>\n",
       "<style scoped>\n",
       "    .dataframe tbody tr th:only-of-type {\n",
       "        vertical-align: middle;\n",
       "    }\n",
       "\n",
       "    .dataframe tbody tr th {\n",
       "        vertical-align: top;\n",
       "    }\n",
       "\n",
       "    .dataframe thead th {\n",
       "        text-align: right;\n",
       "    }\n",
       "</style>\n",
       "<table border=\"1\" class=\"dataframe\">\n",
       "  <thead>\n",
       "    <tr style=\"text-align: right;\">\n",
       "      <th></th>\n",
       "      <th>id_prod</th>\n",
       "      <th>price</th>\n",
       "      <th>categ</th>\n",
       "    </tr>\n",
       "  </thead>\n",
       "  <tbody>\n",
       "    <tr>\n",
       "      <th>0</th>\n",
       "      <td>0_1421</td>\n",
       "      <td>19.99</td>\n",
       "      <td>0</td>\n",
       "    </tr>\n",
       "    <tr>\n",
       "      <th>1</th>\n",
       "      <td>0_1368</td>\n",
       "      <td>5.13</td>\n",
       "      <td>0</td>\n",
       "    </tr>\n",
       "    <tr>\n",
       "      <th>2</th>\n",
       "      <td>0_731</td>\n",
       "      <td>17.99</td>\n",
       "      <td>0</td>\n",
       "    </tr>\n",
       "    <tr>\n",
       "      <th>3</th>\n",
       "      <td>1_587</td>\n",
       "      <td>4.99</td>\n",
       "      <td>1</td>\n",
       "    </tr>\n",
       "    <tr>\n",
       "      <th>4</th>\n",
       "      <td>0_1507</td>\n",
       "      <td>3.99</td>\n",
       "      <td>0</td>\n",
       "    </tr>\n",
       "  </tbody>\n",
       "</table>\n",
       "</div>"
      ],
      "text/plain": [
       "  id_prod  price  categ\n",
       "0  0_1421  19.99      0\n",
       "1  0_1368   5.13      0\n",
       "2   0_731  17.99      0\n",
       "3   1_587   4.99      1\n",
       "4  0_1507   3.99      0"
      ]
     },
     "execution_count": 13,
     "metadata": {},
     "output_type": "execute_result"
    }
   ],
   "source": [
    "products.head()"
   ]
  },
  {
   "cell_type": "markdown",
   "id": "6769255d",
   "metadata": {},
   "source": [
    "- Number of rows and columns :"
   ]
  },
  {
   "cell_type": "code",
   "execution_count": 25,
   "id": "50473c0c",
   "metadata": {},
   "outputs": [
    {
     "data": {
      "text/plain": [
       "(3287, 3)"
      ]
     },
     "execution_count": 25,
     "metadata": {},
     "output_type": "execute_result"
    }
   ],
   "source": [
    "products.shape"
   ]
  },
  {
   "cell_type": "markdown",
   "id": "f368d0e4",
   "metadata": {},
   "source": [
    "- .info display :"
   ]
  },
  {
   "cell_type": "code",
   "execution_count": 15,
   "id": "e02bda03",
   "metadata": {},
   "outputs": [
    {
     "name": "stdout",
     "output_type": "stream",
     "text": [
      "<class 'pandas.core.frame.DataFrame'>\n",
      "RangeIndex: 3287 entries, 0 to 3286\n",
      "Data columns (total 3 columns):\n",
      " #   Column   Non-Null Count  Dtype  \n",
      "---  ------   --------------  -----  \n",
      " 0   id_prod  3287 non-null   object \n",
      " 1   price    3287 non-null   float64\n",
      " 2   categ    3287 non-null   int64  \n",
      "dtypes: float64(1), int64(1), object(1)\n",
      "memory usage: 77.2+ KB\n"
     ]
    }
   ],
   "source": [
    "products.info()"
   ]
  },
  {
   "cell_type": "markdown",
   "id": "78793b2b",
   "metadata": {},
   "source": [
    "- .sort_values display on price and drop value in error :"
   ]
  },
  {
   "cell_type": "code",
   "execution_count": 23,
   "id": "15bce6a0",
   "metadata": {},
   "outputs": [
    {
     "data": {
      "text/html": [
       "<div>\n",
       "<style scoped>\n",
       "    .dataframe tbody tr th:only-of-type {\n",
       "        vertical-align: middle;\n",
       "    }\n",
       "\n",
       "    .dataframe tbody tr th {\n",
       "        vertical-align: top;\n",
       "    }\n",
       "\n",
       "    .dataframe thead th {\n",
       "        text-align: right;\n",
       "    }\n",
       "</style>\n",
       "<table border=\"1\" class=\"dataframe\">\n",
       "  <thead>\n",
       "    <tr style=\"text-align: right;\">\n",
       "      <th></th>\n",
       "      <th>id_prod</th>\n",
       "      <th>price</th>\n",
       "      <th>categ</th>\n",
       "    </tr>\n",
       "  </thead>\n",
       "  <tbody>\n",
       "    <tr>\n",
       "      <th>731</th>\n",
       "      <td>T_0</td>\n",
       "      <td>-1.00</td>\n",
       "      <td>0</td>\n",
       "    </tr>\n",
       "    <tr>\n",
       "      <th>2355</th>\n",
       "      <td>0_202</td>\n",
       "      <td>0.62</td>\n",
       "      <td>0</td>\n",
       "    </tr>\n",
       "    <tr>\n",
       "      <th>2272</th>\n",
       "      <td>0_528</td>\n",
       "      <td>0.62</td>\n",
       "      <td>0</td>\n",
       "    </tr>\n",
       "    <tr>\n",
       "      <th>370</th>\n",
       "      <td>0_120</td>\n",
       "      <td>0.66</td>\n",
       "      <td>0</td>\n",
       "    </tr>\n",
       "    <tr>\n",
       "      <th>1211</th>\n",
       "      <td>0_1844</td>\n",
       "      <td>0.77</td>\n",
       "      <td>0</td>\n",
       "    </tr>\n",
       "    <tr>\n",
       "      <th>...</th>\n",
       "      <td>...</td>\n",
       "      <td>...</td>\n",
       "      <td>...</td>\n",
       "    </tr>\n",
       "    <tr>\n",
       "      <th>2779</th>\n",
       "      <td>2_30</td>\n",
       "      <td>233.54</td>\n",
       "      <td>2</td>\n",
       "    </tr>\n",
       "    <tr>\n",
       "      <th>1436</th>\n",
       "      <td>2_167</td>\n",
       "      <td>236.99</td>\n",
       "      <td>2</td>\n",
       "    </tr>\n",
       "    <tr>\n",
       "      <th>394</th>\n",
       "      <td>2_158</td>\n",
       "      <td>247.22</td>\n",
       "      <td>2</td>\n",
       "    </tr>\n",
       "    <tr>\n",
       "      <th>724</th>\n",
       "      <td>2_76</td>\n",
       "      <td>254.44</td>\n",
       "      <td>2</td>\n",
       "    </tr>\n",
       "    <tr>\n",
       "      <th>947</th>\n",
       "      <td>2_2</td>\n",
       "      <td>300.00</td>\n",
       "      <td>2</td>\n",
       "    </tr>\n",
       "  </tbody>\n",
       "</table>\n",
       "<p>3287 rows × 3 columns</p>\n",
       "</div>"
      ],
      "text/plain": [
       "     id_prod   price  categ\n",
       "731      T_0   -1.00      0\n",
       "2355   0_202    0.62      0\n",
       "2272   0_528    0.62      0\n",
       "370    0_120    0.66      0\n",
       "1211  0_1844    0.77      0\n",
       "...      ...     ...    ...\n",
       "2779    2_30  233.54      2\n",
       "1436   2_167  236.99      2\n",
       "394    2_158  247.22      2\n",
       "724     2_76  254.44      2\n",
       "947      2_2  300.00      2\n",
       "\n",
       "[3287 rows x 3 columns]"
      ]
     },
     "execution_count": 23,
     "metadata": {},
     "output_type": "execute_result"
    }
   ],
   "source": [
    "products.sort_values(by=['price'])"
   ]
  },
  {
   "cell_type": "code",
   "execution_count": 26,
   "id": "184d844e",
   "metadata": {},
   "outputs": [],
   "source": [
    "products = products.drop([731]).reset_index(drop=True)"
   ]
  },
  {
   "cell_type": "markdown",
   "id": "2eed3bd5",
   "metadata": {},
   "source": [
    "- Check new df 'products' :"
   ]
  },
  {
   "cell_type": "code",
   "execution_count": 27,
   "id": "e74af281",
   "metadata": {},
   "outputs": [
    {
     "data": {
      "text/html": [
       "<div>\n",
       "<style scoped>\n",
       "    .dataframe tbody tr th:only-of-type {\n",
       "        vertical-align: middle;\n",
       "    }\n",
       "\n",
       "    .dataframe tbody tr th {\n",
       "        vertical-align: top;\n",
       "    }\n",
       "\n",
       "    .dataframe thead th {\n",
       "        text-align: right;\n",
       "    }\n",
       "</style>\n",
       "<table border=\"1\" class=\"dataframe\">\n",
       "  <thead>\n",
       "    <tr style=\"text-align: right;\">\n",
       "      <th></th>\n",
       "      <th>id_prod</th>\n",
       "      <th>price</th>\n",
       "      <th>categ</th>\n",
       "    </tr>\n",
       "  </thead>\n",
       "  <tbody>\n",
       "    <tr>\n",
       "      <th>2271</th>\n",
       "      <td>0_528</td>\n",
       "      <td>0.62</td>\n",
       "      <td>0</td>\n",
       "    </tr>\n",
       "    <tr>\n",
       "      <th>2354</th>\n",
       "      <td>0_202</td>\n",
       "      <td>0.62</td>\n",
       "      <td>0</td>\n",
       "    </tr>\n",
       "    <tr>\n",
       "      <th>370</th>\n",
       "      <td>0_120</td>\n",
       "      <td>0.66</td>\n",
       "      <td>0</td>\n",
       "    </tr>\n",
       "    <tr>\n",
       "      <th>1210</th>\n",
       "      <td>0_1844</td>\n",
       "      <td>0.77</td>\n",
       "      <td>0</td>\n",
       "    </tr>\n",
       "    <tr>\n",
       "      <th>1529</th>\n",
       "      <td>0_1620</td>\n",
       "      <td>0.80</td>\n",
       "      <td>0</td>\n",
       "    </tr>\n",
       "    <tr>\n",
       "      <th>...</th>\n",
       "      <td>...</td>\n",
       "      <td>...</td>\n",
       "      <td>...</td>\n",
       "    </tr>\n",
       "    <tr>\n",
       "      <th>2778</th>\n",
       "      <td>2_30</td>\n",
       "      <td>233.54</td>\n",
       "      <td>2</td>\n",
       "    </tr>\n",
       "    <tr>\n",
       "      <th>1435</th>\n",
       "      <td>2_167</td>\n",
       "      <td>236.99</td>\n",
       "      <td>2</td>\n",
       "    </tr>\n",
       "    <tr>\n",
       "      <th>394</th>\n",
       "      <td>2_158</td>\n",
       "      <td>247.22</td>\n",
       "      <td>2</td>\n",
       "    </tr>\n",
       "    <tr>\n",
       "      <th>724</th>\n",
       "      <td>2_76</td>\n",
       "      <td>254.44</td>\n",
       "      <td>2</td>\n",
       "    </tr>\n",
       "    <tr>\n",
       "      <th>946</th>\n",
       "      <td>2_2</td>\n",
       "      <td>300.00</td>\n",
       "      <td>2</td>\n",
       "    </tr>\n",
       "  </tbody>\n",
       "</table>\n",
       "<p>3286 rows × 3 columns</p>\n",
       "</div>"
      ],
      "text/plain": [
       "     id_prod   price  categ\n",
       "2271   0_528    0.62      0\n",
       "2354   0_202    0.62      0\n",
       "370    0_120    0.66      0\n",
       "1210  0_1844    0.77      0\n",
       "1529  0_1620    0.80      0\n",
       "...      ...     ...    ...\n",
       "2778    2_30  233.54      2\n",
       "1435   2_167  236.99      2\n",
       "394    2_158  247.22      2\n",
       "724     2_76  254.44      2\n",
       "946      2_2  300.00      2\n",
       "\n",
       "[3286 rows x 3 columns]"
      ]
     },
     "execution_count": 27,
     "metadata": {},
     "output_type": "execute_result"
    }
   ],
   "source": [
    "products.sort_values(by=['price'])"
   ]
  },
  {
   "cell_type": "markdown",
   "id": "32d1ace9",
   "metadata": {},
   "source": [
    "  <a id='another_cell_c'></a>"
   ]
  },
  {
   "cell_type": "markdown",
   "id": "59d67a9f",
   "metadata": {},
   "source": [
    "### 3. [transactions.csv](http://localhost:8888/edit/transactions.csv) : exploration and data cleaning\n"
   ]
  },
  {
   "cell_type": "markdown",
   "id": "2c06c344",
   "metadata": {},
   "source": [
    "- Loading file:"
   ]
  },
  {
   "cell_type": "code",
   "execution_count": 44,
   "id": "afa04da3",
   "metadata": {},
   "outputs": [],
   "source": [
    "transactions = pd.read_csv('transactions.csv', sep=';')"
   ]
  },
  {
   "cell_type": "markdown",
   "id": "61799f36",
   "metadata": {},
   "source": [
    "- First 5 rows display :"
   ]
  },
  {
   "cell_type": "code",
   "execution_count": 52,
   "id": "928ed6c2",
   "metadata": {},
   "outputs": [
    {
     "data": {
      "text/html": [
       "<div>\n",
       "<style scoped>\n",
       "    .dataframe tbody tr th:only-of-type {\n",
       "        vertical-align: middle;\n",
       "    }\n",
       "\n",
       "    .dataframe tbody tr th {\n",
       "        vertical-align: top;\n",
       "    }\n",
       "\n",
       "    .dataframe thead th {\n",
       "        text-align: right;\n",
       "    }\n",
       "</style>\n",
       "<table border=\"1\" class=\"dataframe\">\n",
       "  <thead>\n",
       "    <tr style=\"text-align: right;\">\n",
       "      <th></th>\n",
       "      <th>id_prod</th>\n",
       "      <th>date</th>\n",
       "      <th>session_id</th>\n",
       "      <th>client_id</th>\n",
       "    </tr>\n",
       "  </thead>\n",
       "  <tbody>\n",
       "    <tr>\n",
       "      <th>0</th>\n",
       "      <td>0_1518</td>\n",
       "      <td>21:29.0</td>\n",
       "      <td>s_211425</td>\n",
       "      <td>c_103</td>\n",
       "    </tr>\n",
       "    <tr>\n",
       "      <th>1</th>\n",
       "      <td>1_251</td>\n",
       "      <td>55:19.1</td>\n",
       "      <td>s_158752</td>\n",
       "      <td>c_8534</td>\n",
       "    </tr>\n",
       "    <tr>\n",
       "      <th>2</th>\n",
       "      <td>0_1277</td>\n",
       "      <td>44:33.2</td>\n",
       "      <td>s_225667</td>\n",
       "      <td>c_6714</td>\n",
       "    </tr>\n",
       "    <tr>\n",
       "      <th>3</th>\n",
       "      <td>2_209</td>\n",
       "      <td>19:29.8</td>\n",
       "      <td>s_52962</td>\n",
       "      <td>c_6941</td>\n",
       "    </tr>\n",
       "    <tr>\n",
       "      <th>4</th>\n",
       "      <td>0_1509</td>\n",
       "      <td>22:08.2</td>\n",
       "      <td>s_325227</td>\n",
       "      <td>c_4232</td>\n",
       "    </tr>\n",
       "  </tbody>\n",
       "</table>\n",
       "</div>"
      ],
      "text/plain": [
       "  id_prod     date session_id client_id\n",
       "0  0_1518  21:29.0   s_211425     c_103\n",
       "1   1_251  55:19.1   s_158752    c_8534\n",
       "2  0_1277  44:33.2   s_225667    c_6714\n",
       "3   2_209  19:29.8    s_52962    c_6941\n",
       "4  0_1509  22:08.2   s_325227    c_4232"
      ]
     },
     "execution_count": 52,
     "metadata": {},
     "output_type": "execute_result"
    }
   ],
   "source": [
    "transactions.head()"
   ]
  },
  {
   "cell_type": "markdown",
   "id": "1c288812",
   "metadata": {},
   "source": [
    "- Number of rows and columns :"
   ]
  },
  {
   "cell_type": "code",
   "execution_count": 46,
   "id": "7bfa1dce",
   "metadata": {},
   "outputs": [
    {
     "data": {
      "text/plain": [
       "(679532, 4)"
      ]
     },
     "execution_count": 46,
     "metadata": {},
     "output_type": "execute_result"
    }
   ],
   "source": [
    "transactions.shape"
   ]
  },
  {
   "cell_type": "markdown",
   "id": "3591f866",
   "metadata": {},
   "source": [
    "- .info display :"
   ]
  },
  {
   "cell_type": "code",
   "execution_count": 51,
   "id": "40cad71c",
   "metadata": {},
   "outputs": [
    {
     "name": "stdout",
     "output_type": "stream",
     "text": [
      "<class 'pandas.core.frame.DataFrame'>\n",
      "RangeIndex: 679532 entries, 0 to 679531\n",
      "Data columns (total 4 columns):\n",
      " #   Column      Non-Null Count   Dtype \n",
      "---  ------      --------------   ----- \n",
      " 0   id_prod     679532 non-null  object\n",
      " 1   date        679532 non-null  object\n",
      " 2   session_id  679532 non-null  object\n",
      " 3   client_id   679532 non-null  object\n",
      "dtypes: object(4)\n",
      "memory usage: 20.7+ MB\n"
     ]
    }
   ],
   "source": [
    "transactions.info()"
   ]
  },
  {
   "cell_type": "code",
   "execution_count": 67,
   "id": "3fc19a3c",
   "metadata": {},
   "outputs": [
    {
     "ename": "SyntaxError",
     "evalue": "EOL while scanning string literal (<ipython-input-67-de46db2742d3>, line 2)",
     "output_type": "error",
     "traceback": [
      "\u001b[1;36m  File \u001b[1;32m\"<ipython-input-67-de46db2742d3>\"\u001b[1;36m, line \u001b[1;32m2\u001b[0m\n\u001b[1;33m    transactions['date'] = transactions['date'].to_datetime(format=\"%m/%d/%Y)\u001b[0m\n\u001b[1;37m                                                                             ^\u001b[0m\n\u001b[1;31mSyntaxError\u001b[0m\u001b[1;31m:\u001b[0m EOL while scanning string literal\n"
     ]
    }
   ],
   "source": [
    "import datetime as dt\n",
    "transactions['date'] = transactions['date'].to_datetime(format=\"%m/%d/%Y)"
   ]
  },
  {
   "cell_type": "markdown",
   "id": "d5cf0b14",
   "metadata": {},
   "source": [
    " <a id='another_cell_d'></a>"
   ]
  },
  {
   "cell_type": "markdown",
   "id": "bae67f7d",
   "metadata": {},
   "source": [
    "### 4. ..."
   ]
  },
  {
   "cell_type": "markdown",
   "id": "7ee14a5d",
   "metadata": {},
   "source": [
    " <a id='another_cell_d'></a>"
   ]
  },
  {
   "cell_type": "markdown",
   "id": "f266589a",
   "metadata": {},
   "source": [
    "#### a. ..."
   ]
  },
  {
   "cell_type": "code",
   "execution_count": null,
   "id": "cc49a2bd",
   "metadata": {},
   "outputs": [],
   "source": []
  },
  {
   "cell_type": "markdown",
   "id": "5a88ab3b",
   "metadata": {},
   "source": [
    "- \"left_only\" analysis :"
   ]
  },
  {
   "cell_type": "code",
   "execution_count": null,
   "id": "62713e9e",
   "metadata": {},
   "outputs": [],
   "source": []
  },
  {
   "cell_type": "markdown",
   "id": "377f2139",
   "metadata": {},
   "source": [
    "- \"sku\" dropna :"
   ]
  },
  {
   "cell_type": "code",
   "execution_count": null,
   "id": "884608bd",
   "metadata": {},
   "outputs": [],
   "source": []
  },
  {
   "cell_type": "markdown",
   "id": "14592cd7",
   "metadata": {},
   "source": [
    "- Check df null values :"
   ]
  },
  {
   "cell_type": "code",
   "execution_count": null,
   "id": "056749f1",
   "metadata": {},
   "outputs": [],
   "source": []
  },
  {
   "cell_type": "markdown",
   "id": "04f06487",
   "metadata": {},
   "source": [
    " <a id='another_cell_e'></a>"
   ]
  },
  {
   "cell_type": "markdown",
   "id": "09fe3f34",
   "metadata": {},
   "source": [
    "#### b. ..."
   ]
  },
  {
   "cell_type": "code",
   "execution_count": null,
   "id": "d8fcaa62",
   "metadata": {},
   "outputs": [],
   "source": []
  },
  {
   "cell_type": "markdown",
   "id": "50198b28",
   "metadata": {},
   "source": [
    "- \"left_only\" analysis :"
   ]
  },
  {
   "cell_type": "code",
   "execution_count": null,
   "id": "75e46848",
   "metadata": {},
   "outputs": [],
   "source": []
  },
  {
   "cell_type": "markdown",
   "id": "943c116e",
   "metadata": {},
   "source": [
    "- \"sku\" dropna :"
   ]
  },
  {
   "cell_type": "code",
   "execution_count": null,
   "id": "a87069cf",
   "metadata": {},
   "outputs": [],
   "source": []
  },
  {
   "cell_type": "markdown",
   "id": "a69dae9c",
   "metadata": {},
   "source": [
    "- \"_merge\" column drop :"
   ]
  },
  {
   "cell_type": "code",
   "execution_count": null,
   "id": "963b95f7",
   "metadata": {},
   "outputs": [],
   "source": []
  },
  {
   "cell_type": "markdown",
   "id": "64bb1ba5",
   "metadata": {},
   "source": [
    " <a id='another_cell_f'></a>"
   ]
  },
  {
   "cell_type": "markdown",
   "id": "5443ff6a",
   "metadata": {},
   "source": [
    "#### c. ..."
   ]
  },
  {
   "cell_type": "code",
   "execution_count": null,
   "id": "15ddd651",
   "metadata": {},
   "outputs": [],
   "source": []
  },
  {
   "cell_type": "markdown",
   "id": "10649109",
   "metadata": {},
   "source": [
    "- Useless \"sku_y\" column drop :"
   ]
  },
  {
   "cell_type": "code",
   "execution_count": 62,
   "id": "672fd468",
   "metadata": {},
   "outputs": [],
   "source": []
  },
  {
   "cell_type": "markdown",
   "id": "3e5a6a6e",
   "metadata": {},
   "source": [
    "- \"sku_x\" column renamed :"
   ]
  },
  {
   "cell_type": "code",
   "execution_count": null,
   "id": "abaa9ab2",
   "metadata": {},
   "outputs": [],
   "source": []
  },
  {
   "cell_type": "markdown",
   "id": "00c5f4d7",
   "metadata": {},
   "source": [
    "- \"post_title\" column dropna to delete the latest nan values :"
   ]
  },
  {
   "cell_type": "code",
   "execution_count": null,
   "id": "675bad11",
   "metadata": {},
   "outputs": [],
   "source": []
  },
  {
   "cell_type": "markdown",
   "id": "6776ee2f",
   "metadata": {},
   "source": [
    "- Drop duplicates on \"post_title\" and \"price\" columns :"
   ]
  },
  {
   "cell_type": "code",
   "execution_count": null,
   "id": "4ee2dfa2",
   "metadata": {},
   "outputs": [],
   "source": []
  },
  {
   "cell_type": "markdown",
   "id": "16a183eb",
   "metadata": {},
   "source": [
    "- Check null values and drop empty and useless columns :"
   ]
  },
  {
   "cell_type": "code",
   "execution_count": null,
   "id": "5367efbb",
   "metadata": {},
   "outputs": [],
   "source": []
  },
  {
   "cell_type": "markdown",
   "id": "b95727fa",
   "metadata": {},
   "source": [
    " "
   ]
  },
  {
   "cell_type": "markdown",
   "id": "7ad17462",
   "metadata": {},
   "source": [
    "## 2. ..."
   ]
  },
  {
   "cell_type": "markdown",
   "id": "22c38cd6",
   "metadata": {},
   "source": [
    "### 1. ..."
   ]
  },
  {
   "cell_type": "markdown",
   "id": "e19dab37",
   "metadata": {},
   "source": [
    " <a id='another_cell_g'></a>"
   ]
  },
  {
   "cell_type": "markdown",
   "id": "aa6a4295",
   "metadata": {},
   "source": [
    "#### a. ..."
   ]
  },
  {
   "cell_type": "code",
   "execution_count": null,
   "id": "36236f8c",
   "metadata": {},
   "outputs": [],
   "source": []
  },
  {
   "cell_type": "markdown",
   "id": "388b3a81",
   "metadata": {},
   "source": [
    " <a id='another_cell_h'></a>"
   ]
  },
  {
   "cell_type": "markdown",
   "id": "12972778",
   "metadata": {},
   "source": [
    "#### b. ..."
   ]
  },
  {
   "cell_type": "code",
   "execution_count": null,
   "id": "694b43db",
   "metadata": {},
   "outputs": [],
   "source": []
  },
  {
   "cell_type": "markdown",
   "id": "5fcfe856",
   "metadata": {},
   "source": [
    " "
   ]
  },
  {
   "cell_type": "markdown",
   "id": "199a4e9b",
   "metadata": {},
   "source": [
    "### 2. ..."
   ]
  },
  {
   "cell_type": "markdown",
   "id": "3c7f0f66",
   "metadata": {},
   "source": [
    " <a id='another_cell_i'></a>"
   ]
  },
  {
   "cell_type": "markdown",
   "id": "34f7ff04",
   "metadata": {},
   "source": [
    "#### a. ..."
   ]
  },
  {
   "cell_type": "code",
   "execution_count": 77,
   "id": "f7c10201",
   "metadata": {},
   "outputs": [],
   "source": []
  },
  {
   "cell_type": "markdown",
   "id": "dc32a77a",
   "metadata": {},
   "source": [
    " <a id='another_cell_j'></a>"
   ]
  },
  {
   "cell_type": "markdown",
   "id": "57b1f9a8",
   "metadata": {},
   "source": [
    "#### b. ..."
   ]
  },
  {
   "cell_type": "code",
   "execution_count": null,
   "id": "e158cb88",
   "metadata": {},
   "outputs": [],
   "source": []
  }
 ],
 "metadata": {
  "kernelspec": {
   "display_name": "Python 3",
   "language": "python",
   "name": "python3"
  },
  "language_info": {
   "codemirror_mode": {
    "name": "ipython",
    "version": 3
   },
   "file_extension": ".py",
   "mimetype": "text/x-python",
   "name": "python",
   "nbconvert_exporter": "python",
   "pygments_lexer": "ipython3",
   "version": "3.8.8"
  }
 },
 "nbformat": 4,
 "nbformat_minor": 5
}
