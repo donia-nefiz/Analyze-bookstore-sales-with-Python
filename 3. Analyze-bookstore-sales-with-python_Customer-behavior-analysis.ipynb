{
 "cells": [
  {
   "cell_type": "markdown",
   "id": "f8b22c1d",
   "metadata": {},
   "source": [
    "# Analyze bookstore sales with Python"
   ]
  },
  {
   "cell_type": "markdown",
   "id": "39262d88",
   "metadata": {},
   "source": [
    "## <i>Customer behavior analysis</i>"
   ]
  },
  {
   "cell_type": "markdown",
   "id": "e0e867f8",
   "metadata": {},
   "source": [
    " "
   ]
  },
  {
   "cell_type": "markdown",
   "id": "2f514382",
   "metadata": {},
   "source": [
    "My mission here for Lapage is to analyse the strengths, weaknesses and customer behavior of Lapage.\n",
    "\n",
    "I was also asked to analyze the relationship between a customer's gender and the categories of books purchased, and then the link between the customers'age and the total amount of purchases, the purchase frequency, the average basket size and the categories of books purchased.\n",
    " <br></br>\n",
    " \n",
    "<u> Summary</u> :\n",
    "\n",
    " Tools\n",
    " \n",
    "\n",
    "III. Customer behavior analysis\n",
    "    1. Relationship between customer's gender and purchase category\n",
    "    -- a. Contingency table and heatmap\n",
    "    -- b. Chi-square test\n",
    "    2. Analysis of customer behavior according to their age\n",
    "    -- a. Calculations and pearson matrix\n",
    "    -- b. Customers' age vs purchase frequency\n",
    "    -- c. Customers' age vs total purchase amount\n",
    "    -- d. Customers' age vs average basket\n",
    "    -- e. Customers' age vs category of books purchased\n",
    "\n",
    " Conclusion (part 3) "
   ]
  },
  {
   "cell_type": "markdown",
   "id": "13c29f24",
   "metadata": {},
   "source": [
    "<a id='another_cell_0'></a>"
   ]
  },
  {
   "cell_type": "markdown",
   "id": "3cb10302",
   "metadata": {},
   "source": [
    "### Tools"
   ]
  },
  {
   "cell_type": "code",
   "execution_count": 1,
   "id": "4a58dda2",
   "metadata": {},
   "outputs": [],
   "source": [
    "import math\n",
    "import scipy.stats as st #shapiro and spearman tests\n",
    "import statsmodels.api as sm #pvalue\n",
    "import pingouin as pg #anova test\n",
    "import statsmodels.api as sm #anova test\n",
    "import statsmodels.formula.api as smf #anova test\n",
    "from statsmodels.formula.api import ols #anova tes\n",
    "import numpy as np\n",
    "import pandas as pd\n",
    "import matplotlib.pyplot as plt\n",
    "import datetime as dt\n",
    "import seaborn as sns\n",
    "import warnings"
   ]
  },
  {
   "cell_type": "code",
   "execution_count": 2,
   "id": "f2f7a842",
   "metadata": {},
   "outputs": [],
   "source": [
    "#shapiro-wilk test\n",
    "def shapiro_test(x):\n",
    "    from scipy.stats import shapiro\n",
    "    x1, pval1 = shapiro(x)\n",
    "\n",
    "    print(\"=\"*100,\"\\n\")\n",
    "    print(\"Shapiro-Wilk test\")\n",
    "    if pval1 < 0.05:\n",
    "        print(\"The null hypothesis is rejected \\t ==> The variable does not follow a normal law\")\n",
    "    else:\n",
    "        print(\"We cannot reject the null hypothesis H0 (The variable follows a normal law)\")\n",
    "    print()\n",
    "    print(\"=\"*100,\"\\n\")\n",
    "    \n",
    "#spearman test\n",
    "def spearman_test(x,y):\n",
    "    print(\"=\"*100, \"\\n\")\n",
    "    print(\"Test of Independence (Spearman's Test)\\n\")\n",
    "\n",
    "    rs = st.spearmanr(x,y)[0]\n",
    "    pvalue = st.spearmanr(x,y)[1]\n",
    "\n",
    "    if abs(rs) < .10:\n",
    "        qual = 'negligible (or null)'\n",
    "    elif abs(rs) < .20:\n",
    "        qual = 'low'\n",
    "    elif abs(rs) < .40:\n",
    "        qual = 'moderate'\n",
    "    elif abs(rs) < .60:\n",
    "        qual = 'rather high'\n",
    "    elif abs(rs) < .80:\n",
    "        qual = 'high'\n",
    "    else:\n",
    "        qual = 'very high'\n",
    "\n",
    "    print(\"Spearman coeff =\",rs)\n",
    "    print(\"Spearman pvalue =\",pvalue)\n",
    "    print()\n",
    "\n",
    "    if rs == 0:\n",
    "        print(\"We cannot reject the null hypothesis H0 (the variables are independent)\")\n",
    "    elif rs < 0 :\n",
    "        if pvalue < 0.05:\n",
    "            print(\"Variables exhibit a significantly {} negative correlation\".format(qual))\n",
    "        else:\n",
    "            print(\"The variables have a low significant {} negative correlation\".format(qual))\n",
    "    elif rs > 0:\n",
    "        if pvalue < 0.05:\n",
    "            print(\"The variables exhibit a significantly {} positive correlation\".format(qual))\n",
    "        else:\n",
    "            print(\"The variables have a low significant {} positive correlation\".format(qual))"
   ]
  },
  {
   "cell_type": "code",
   "execution_count": 3,
   "id": "f9d678e4",
   "metadata": {},
   "outputs": [
    {
     "data": {
      "text/html": [
       "<div>\n",
       "<style scoped>\n",
       "    .dataframe tbody tr th:only-of-type {\n",
       "        vertical-align: middle;\n",
       "    }\n",
       "\n",
       "    .dataframe tbody tr th {\n",
       "        vertical-align: top;\n",
       "    }\n",
       "\n",
       "    .dataframe thead th {\n",
       "        text-align: right;\n",
       "    }\n",
       "</style>\n",
       "<table border=\"1\" class=\"dataframe\">\n",
       "  <thead>\n",
       "    <tr style=\"text-align: right;\">\n",
       "      <th></th>\n",
       "      <th>id_prod</th>\n",
       "      <th>time</th>\n",
       "      <th>session_id</th>\n",
       "      <th>client_id</th>\n",
       "      <th>date</th>\n",
       "      <th>year</th>\n",
       "      <th>period</th>\n",
       "      <th>sex</th>\n",
       "      <th>birth</th>\n",
       "      <th>age</th>\n",
       "      <th>price</th>\n",
       "      <th>categ</th>\n",
       "      <th>age_groups</th>\n",
       "    </tr>\n",
       "  </thead>\n",
       "  <tbody>\n",
       "    <tr>\n",
       "      <th>0</th>\n",
       "      <td>0_1518</td>\n",
       "      <td>2022-05-20 13:21:29.043970</td>\n",
       "      <td>s_211425</td>\n",
       "      <td>c_103</td>\n",
       "      <td>2022-05-20</td>\n",
       "      <td>2022</td>\n",
       "      <td>2022-05</td>\n",
       "      <td>f</td>\n",
       "      <td>1986</td>\n",
       "      <td>36</td>\n",
       "      <td>4.18</td>\n",
       "      <td>0</td>\n",
       "      <td>36 - 45 ans</td>\n",
       "    </tr>\n",
       "    <tr>\n",
       "      <th>1</th>\n",
       "      <td>1_251</td>\n",
       "      <td>2022-02-02 07:55:19.149409</td>\n",
       "      <td>s_158752</td>\n",
       "      <td>c_8534</td>\n",
       "      <td>2022-02-02</td>\n",
       "      <td>2022</td>\n",
       "      <td>2022-02</td>\n",
       "      <td>m</td>\n",
       "      <td>1988</td>\n",
       "      <td>34</td>\n",
       "      <td>15.99</td>\n",
       "      <td>1</td>\n",
       "      <td>26 - 35 ans</td>\n",
       "    </tr>\n",
       "    <tr>\n",
       "      <th>2</th>\n",
       "      <td>2_209</td>\n",
       "      <td>2021-06-24 04:19:29.835891</td>\n",
       "      <td>s_52962</td>\n",
       "      <td>c_6941</td>\n",
       "      <td>2021-06-24</td>\n",
       "      <td>2021</td>\n",
       "      <td>2021-06</td>\n",
       "      <td>m</td>\n",
       "      <td>2000</td>\n",
       "      <td>22</td>\n",
       "      <td>69.99</td>\n",
       "      <td>2</td>\n",
       "      <td>18 - 25 ans</td>\n",
       "    </tr>\n",
       "    <tr>\n",
       "      <th>3</th>\n",
       "      <td>0_1509</td>\n",
       "      <td>2023-01-11 08:22:08.194479</td>\n",
       "      <td>s_325227</td>\n",
       "      <td>c_4232</td>\n",
       "      <td>2023-01-11</td>\n",
       "      <td>2023</td>\n",
       "      <td>2023-01</td>\n",
       "      <td>m</td>\n",
       "      <td>1980</td>\n",
       "      <td>42</td>\n",
       "      <td>4.99</td>\n",
       "      <td>0</td>\n",
       "      <td>36 - 45 ans</td>\n",
       "    </tr>\n",
       "    <tr>\n",
       "      <th>4</th>\n",
       "      <td>0_1418</td>\n",
       "      <td>2022-10-20 15:59:16.084030</td>\n",
       "      <td>s_285425</td>\n",
       "      <td>c_1478</td>\n",
       "      <td>2022-10-20</td>\n",
       "      <td>2022</td>\n",
       "      <td>2022-10</td>\n",
       "      <td>f</td>\n",
       "      <td>1972</td>\n",
       "      <td>50</td>\n",
       "      <td>8.57</td>\n",
       "      <td>0</td>\n",
       "      <td>46 - 55 ans</td>\n",
       "    </tr>\n",
       "    <tr>\n",
       "      <th>...</th>\n",
       "      <td>...</td>\n",
       "      <td>...</td>\n",
       "      <td>...</td>\n",
       "      <td>...</td>\n",
       "      <td>...</td>\n",
       "      <td>...</td>\n",
       "      <td>...</td>\n",
       "      <td>...</td>\n",
       "      <td>...</td>\n",
       "      <td>...</td>\n",
       "      <td>...</td>\n",
       "      <td>...</td>\n",
       "      <td>...</td>\n",
       "    </tr>\n",
       "    <tr>\n",
       "      <th>612621</th>\n",
       "      <td>0_1551</td>\n",
       "      <td>2022-01-15 13:05:06.246925</td>\n",
       "      <td>s_150195</td>\n",
       "      <td>c_8489</td>\n",
       "      <td>2022-01-15</td>\n",
       "      <td>2022</td>\n",
       "      <td>2022-01</td>\n",
       "      <td>f</td>\n",
       "      <td>1951</td>\n",
       "      <td>71</td>\n",
       "      <td>12.99</td>\n",
       "      <td>0</td>\n",
       "      <td>66 - 75 ans</td>\n",
       "    </tr>\n",
       "    <tr>\n",
       "      <th>612622</th>\n",
       "      <td>1_639</td>\n",
       "      <td>2022-03-19 16:03:23.429229</td>\n",
       "      <td>s_181434</td>\n",
       "      <td>c_4370</td>\n",
       "      <td>2022-03-19</td>\n",
       "      <td>2022</td>\n",
       "      <td>2022-03</td>\n",
       "      <td>f</td>\n",
       "      <td>1977</td>\n",
       "      <td>45</td>\n",
       "      <td>10.99</td>\n",
       "      <td>1</td>\n",
       "      <td>36 - 45 ans</td>\n",
       "    </tr>\n",
       "    <tr>\n",
       "      <th>612623</th>\n",
       "      <td>0_1425</td>\n",
       "      <td>2022-12-20 04:33:37.584749</td>\n",
       "      <td>s_314704</td>\n",
       "      <td>c_304</td>\n",
       "      <td>2022-12-20</td>\n",
       "      <td>2022</td>\n",
       "      <td>2022-12</td>\n",
       "      <td>f</td>\n",
       "      <td>1988</td>\n",
       "      <td>34</td>\n",
       "      <td>12.99</td>\n",
       "      <td>0</td>\n",
       "      <td>26 - 35 ans</td>\n",
       "    </tr>\n",
       "    <tr>\n",
       "      <th>612624</th>\n",
       "      <td>0_1994</td>\n",
       "      <td>2021-07-16 20:36:35.350579</td>\n",
       "      <td>s_63204</td>\n",
       "      <td>c_2227</td>\n",
       "      <td>2021-07-16</td>\n",
       "      <td>2021</td>\n",
       "      <td>2021-07</td>\n",
       "      <td>m</td>\n",
       "      <td>1986</td>\n",
       "      <td>36</td>\n",
       "      <td>4.98</td>\n",
       "      <td>0</td>\n",
       "      <td>36 - 45 ans</td>\n",
       "    </tr>\n",
       "    <tr>\n",
       "      <th>612625</th>\n",
       "      <td>1_523</td>\n",
       "      <td>2022-09-28 01:12:01.973763</td>\n",
       "      <td>s_274568</td>\n",
       "      <td>c_3873</td>\n",
       "      <td>2022-09-28</td>\n",
       "      <td>2022</td>\n",
       "      <td>2022-09</td>\n",
       "      <td>m</td>\n",
       "      <td>1995</td>\n",
       "      <td>27</td>\n",
       "      <td>23.99</td>\n",
       "      <td>1</td>\n",
       "      <td>26 - 35 ans</td>\n",
       "    </tr>\n",
       "  </tbody>\n",
       "</table>\n",
       "<p>612626 rows × 13 columns</p>\n",
       "</div>"
      ],
      "text/plain": [
       "       id_prod                        time session_id client_id       date  \\\n",
       "0       0_1518  2022-05-20 13:21:29.043970   s_211425     c_103 2022-05-20   \n",
       "1        1_251  2022-02-02 07:55:19.149409   s_158752    c_8534 2022-02-02   \n",
       "2        2_209  2021-06-24 04:19:29.835891    s_52962    c_6941 2021-06-24   \n",
       "3       0_1509  2023-01-11 08:22:08.194479   s_325227    c_4232 2023-01-11   \n",
       "4       0_1418  2022-10-20 15:59:16.084030   s_285425    c_1478 2022-10-20   \n",
       "...        ...                         ...        ...       ...        ...   \n",
       "612621  0_1551  2022-01-15 13:05:06.246925   s_150195    c_8489 2022-01-15   \n",
       "612622   1_639  2022-03-19 16:03:23.429229   s_181434    c_4370 2022-03-19   \n",
       "612623  0_1425  2022-12-20 04:33:37.584749   s_314704     c_304 2022-12-20   \n",
       "612624  0_1994  2021-07-16 20:36:35.350579    s_63204    c_2227 2021-07-16   \n",
       "612625   1_523  2022-09-28 01:12:01.973763   s_274568    c_3873 2022-09-28   \n",
       "\n",
       "        year   period sex  birth  age  price  categ   age_groups  \n",
       "0       2022  2022-05   f   1986   36   4.18      0  36 - 45 ans  \n",
       "1       2022  2022-02   m   1988   34  15.99      1  26 - 35 ans  \n",
       "2       2021  2021-06   m   2000   22  69.99      2  18 - 25 ans  \n",
       "3       2023  2023-01   m   1980   42   4.99      0  36 - 45 ans  \n",
       "4       2022  2022-10   f   1972   50   8.57      0  46 - 55 ans  \n",
       "...      ...      ...  ..    ...  ...    ...    ...          ...  \n",
       "612621  2022  2022-01   f   1951   71  12.99      0  66 - 75 ans  \n",
       "612622  2022  2022-03   f   1977   45  10.99      1  36 - 45 ans  \n",
       "612623  2022  2022-12   f   1988   34  12.99      0  26 - 35 ans  \n",
       "612624  2021  2021-07   m   1986   36   4.98      0  36 - 45 ans  \n",
       "612625  2022  2022-09   m   1995   27  23.99      1  26 - 35 ans  \n",
       "\n",
       "[612626 rows x 13 columns]"
      ]
     },
     "execution_count": 3,
     "metadata": {},
     "output_type": "execute_result"
    }
   ],
   "source": [
    "lapage_df_b2c = pd.read_csv('export_lapage_df_b2c.csv', sep=';')#lapage b2c database importation\n",
    "lapage_df_b2c['date'] = pd.to_datetime(lapage_df_b2c['date'])#date convertion\n",
    "lapage_df_b2c.drop('Unnamed: 0', 1, inplace=True)#we delete the first empty column of the dataframe\n",
    "lapage_df_b2c"
   ]
  },
  {
   "cell_type": "markdown",
   "id": "f9fb266e",
   "metadata": {},
   "source": [
    " "
   ]
  },
  {
   "cell_type": "markdown",
   "id": "7ad17462",
   "metadata": {},
   "source": [
    "## III. Customer behavior analysis"
   ]
  },
  {
   "cell_type": "markdown",
   "id": "22c38cd6",
   "metadata": {},
   "source": [
    "### 1. Relationship between customer's gender and purchase category"
   ]
  },
  {
   "cell_type": "markdown",
   "id": "e19dab37",
   "metadata": {},
   "source": [
    "<a id='another_cell_e'></a>"
   ]
  },
  {
   "cell_type": "markdown",
   "id": "aa6a4295",
   "metadata": {},
   "source": [
    "#### a. Contingency table between sex and category and heatmap"
   ]
  },
  {
   "cell_type": "code",
   "execution_count": 4,
   "id": "cdfef677",
   "metadata": {},
   "outputs": [
    {
     "data": {
      "text/html": [
       "<div>\n",
       "<style scoped>\n",
       "    .dataframe tbody tr th:only-of-type {\n",
       "        vertical-align: middle;\n",
       "    }\n",
       "\n",
       "    .dataframe tbody tr th {\n",
       "        vertical-align: top;\n",
       "    }\n",
       "\n",
       "    .dataframe thead th {\n",
       "        text-align: right;\n",
       "    }\n",
       "</style>\n",
       "<table border=\"1\" class=\"dataframe\">\n",
       "  <thead>\n",
       "    <tr style=\"text-align: right;\">\n",
       "      <th>categ</th>\n",
       "      <th>0</th>\n",
       "      <th>1</th>\n",
       "      <th>2</th>\n",
       "    </tr>\n",
       "    <tr>\n",
       "      <th>sex</th>\n",
       "      <th></th>\n",
       "      <th></th>\n",
       "      <th></th>\n",
       "    </tr>\n",
       "  </thead>\n",
       "  <tbody>\n",
       "    <tr>\n",
       "      <th>f</th>\n",
       "      <td>192025</td>\n",
       "      <td>110550</td>\n",
       "      <td>16429</td>\n",
       "    </tr>\n",
       "    <tr>\n",
       "      <th>m</th>\n",
       "      <td>178044</td>\n",
       "      <td>100227</td>\n",
       "      <td>15351</td>\n",
       "    </tr>\n",
       "  </tbody>\n",
       "</table>\n",
       "</div>"
      ],
      "text/plain": [
       "categ       0       1      2\n",
       "sex                         \n",
       "f      192025  110550  16429\n",
       "m      178044  100227  15351"
      ]
     },
     "execution_count": 4,
     "metadata": {},
     "output_type": "execute_result"
    }
   ],
   "source": [
    "#contingency table between sex and category\n",
    "X, Y = \"sex\", \"categ\"\n",
    "cont_table = lapage_df_b2c[[X,Y]].pivot_table(index=X,columns=Y,aggfunc=len)\n",
    "cont_table"
   ]
  },
  {
   "cell_type": "code",
   "execution_count": 5,
   "id": "c03e687e",
   "metadata": {},
   "outputs": [
    {
     "data": {
      "image/png": "[encoded data removed]",
      "text/plain": [
       "<Figure size 800x480 with 2 Axes>"
      ]
     },
     "metadata": {},
     "output_type": "display_data"
    }
   ],
   "source": [
    "#heatmap of contingency table between sex and category\n",
    "fig = plt.figure(num=None, figsize=(10, 6), dpi=80, facecolor='w', edgecolor='k')\n",
    "plt.clf()\n",
    "ax = fig.add_subplot(111)\n",
    "ax.set_aspect(1)\n",
    "res = sns.heatmap(cont_table, annot=True, fmt='.2f', cmap=\"YlGnBu\", vmin=0.0, vmax=300000.0)\n",
    "plt.title(\"Heatmap of contingency table between sex and category\",fontsize=12)\n",
    "plt.savefig(\"Heatmap of contingency table between sex and category.png\", bbox_inches='tight')\n",
    "plt.show()"
   ]
  },
  {
   "cell_type": "markdown",
   "id": "c4915b85",
   "metadata": {},
   "source": [
    "<div class=\"alert-success\">\n",
    "    <u>Notice</u> :\n",
    "    <i><li> Woman as men prefer respectively categories 0, 1 and 2 at last</li>\n",
    "    <i><li> Purchase categories do not differ by customer gender</li>\n",
    "    <i><li> We only see that women consume a little more than men on the 3 categories of products</li>\n",
    "</i></div>"
   ]
  },
  {
   "cell_type": "markdown",
   "id": "388b3a81",
   "metadata": {},
   "source": [
    "<a id='another_cell_f'></a>"
   ]
  },
  {
   "cell_type": "markdown",
   "id": "12972778",
   "metadata": {},
   "source": [
    "#### b. Chi-square test"
   ]
  },
  {
   "cell_type": "markdown",
   "id": "b4936640",
   "metadata": {},
   "source": [
    "The chi-square test is a statistical test that will make it possible to decide on the link between two qualitative variables. How can we say that the two variables in our distribution are not independent? In other words, how do we know if two variables have no statistical relationship between them ?"
   ]
  },
  {
   "cell_type": "markdown",
   "id": "4d480304",
   "metadata": {},
   "source": [
    "<b>Situation</b> : qualitative variable <i>(sex)</i> vs qualitative variable <i>(category)</i>\n",
    "<br><b>Question</b> : <i>Has the category of books purchased a dependency on the customers gender ?</i></br>\n",
    "<br><b>Tool</b> : chi-square test</br>"
   ]
  },
  {
   "cell_type": "code",
   "execution_count": 6,
   "id": "06ccbd2a",
   "metadata": {},
   "outputs": [
    {
     "name": "stdout",
     "output_type": "stream",
     "text": [
      "==================================================================================================== \n",
      "\n",
      "Independence test between gender and category (Chi-square test)\n",
      "\t Null hypothesis H0 : \t \t Preference for a book category does not depend on the customer's gender\n",
      "\t Alternative hypothesis H1 : \t Preference for a category depends on the customer's gender\n",
      "\n",
      "Le khi-deux est de :  18.75788251563821 \n",
      "\n",
      "La p-value est de : 8.448460261159054e-05 \n",
      "\n",
      "The null hypothesis is rejected \t ==> H1: The preference for a category depends on the gender of the customer\n"
     ]
    }
   ],
   "source": [
    "#chi-square independence test\n",
    "print(\"=\"*100,\"\\n\")\n",
    "print(\"Independence test between gender and category (Chi-square test)\")\n",
    "print(\"\\t Null hypothesis H0 : \\t \\t Preference for a book category does not depend on the customer's gender\")\n",
    "print(\"\\t Alternative hypothesis H1 : \\t Preference for a category depends on the customer's gender\")\n",
    "print('')\n",
    "\n",
    "#chi-square and p-value calculation\n",
    "conti = lapage_df_b2c[[X, Y]].pivot_table(index=X, columns=Y, aggfunc=len).fillna(0).copy()\n",
    "st_chi2, st_p, st_dof, st_exp = st.chi2_contingency(conti)\n",
    "print(\"Le khi-deux est de : \",st_chi2,\"\\n\")\n",
    "print(\"La p-value est de :\",st_p,\"\\n\")\n",
    "\n",
    "if st_p < 0.05:\n",
    "    print(\"The null hypothesis is rejected \\t ==> H1: The preference for a category depends on the gender of the customer\")\n",
    "else:\n",
    "    print(\"We cannot reject the null hypothesis H0 (The preference for a category of book does not depend on the gender of the customer\")"
   ]
  },
  {
   "cell_type": "markdown",
   "id": "0b807a91",
   "metadata": {},
   "source": [
    "<div class=\"alert-success\">\n",
    "    <u>Notice</u> :\n",
    "    <i><li> For α = 5%, the customers gender has a dependency on the category of books purchased</li>\n",
    "</i></div>"
   ]
  },
  {
   "cell_type": "markdown",
   "id": "5fcfe856",
   "metadata": {},
   "source": [
    " "
   ]
  },
  {
   "cell_type": "markdown",
   "id": "199a4e9b",
   "metadata": {},
   "source": [
    "### 2. Analysis of customer behavior according to their age"
   ]
  },
  {
   "cell_type": "markdown",
   "id": "6d0c7133",
   "metadata": {},
   "source": [
    "<a id='another_cell_h'></a>"
   ]
  },
  {
   "cell_type": "markdown",
   "id": "eb6f64bb",
   "metadata": {},
   "source": [
    "#### a. Calculations and pearson matrix"
   ]
  },
  {
   "cell_type": "code",
   "execution_count": 7,
   "id": "7bbc0fd2",
   "metadata": {},
   "outputs": [
    {
     "data": {
      "text/html": [
       "<div>\n",
       "<style scoped>\n",
       "    .dataframe tbody tr th:only-of-type {\n",
       "        vertical-align: middle;\n",
       "    }\n",
       "\n",
       "    .dataframe tbody tr th {\n",
       "        vertical-align: top;\n",
       "    }\n",
       "\n",
       "    .dataframe thead th {\n",
       "        text-align: right;\n",
       "    }\n",
       "</style>\n",
       "<table border=\"1\" class=\"dataframe\">\n",
       "  <thead>\n",
       "    <tr style=\"text-align: right;\">\n",
       "      <th></th>\n",
       "      <th>age</th>\n",
       "      <th>age_groups</th>\n",
       "      <th>purchase_frequency</th>\n",
       "      <th>total_purchase_amount</th>\n",
       "      <th>average_basket</th>\n",
       "    </tr>\n",
       "  </thead>\n",
       "  <tbody>\n",
       "    <tr>\n",
       "      <th>0</th>\n",
       "      <td>18</td>\n",
       "      <td>18 - 25 ans</td>\n",
       "      <td>14769</td>\n",
       "      <td>591414.23</td>\n",
       "      <td>40.04</td>\n",
       "    </tr>\n",
       "    <tr>\n",
       "      <th>1</th>\n",
       "      <td>19</td>\n",
       "      <td>18 - 25 ans</td>\n",
       "      <td>4238</td>\n",
       "      <td>172831.75</td>\n",
       "      <td>40.78</td>\n",
       "    </tr>\n",
       "    <tr>\n",
       "      <th>2</th>\n",
       "      <td>20</td>\n",
       "      <td>18 - 25 ans</td>\n",
       "      <td>4468</td>\n",
       "      <td>178799.11</td>\n",
       "      <td>40.02</td>\n",
       "    </tr>\n",
       "    <tr>\n",
       "      <th>3</th>\n",
       "      <td>21</td>\n",
       "      <td>18 - 25 ans</td>\n",
       "      <td>4161</td>\n",
       "      <td>174347.66</td>\n",
       "      <td>41.90</td>\n",
       "    </tr>\n",
       "    <tr>\n",
       "      <th>4</th>\n",
       "      <td>22</td>\n",
       "      <td>18 - 25 ans</td>\n",
       "      <td>4299</td>\n",
       "      <td>160576.49</td>\n",
       "      <td>37.35</td>\n",
       "    </tr>\n",
       "    <tr>\n",
       "      <th>...</th>\n",
       "      <td>...</td>\n",
       "      <td>...</td>\n",
       "      <td>...</td>\n",
       "      <td>...</td>\n",
       "      <td>...</td>\n",
       "    </tr>\n",
       "    <tr>\n",
       "      <th>71</th>\n",
       "      <td>89</td>\n",
       "      <td>76 ans - plus</td>\n",
       "      <td>315</td>\n",
       "      <td>5089.62</td>\n",
       "      <td>16.16</td>\n",
       "    </tr>\n",
       "    <tr>\n",
       "      <th>72</th>\n",
       "      <td>90</td>\n",
       "      <td>76 ans - plus</td>\n",
       "      <td>293</td>\n",
       "      <td>4803.64</td>\n",
       "      <td>16.39</td>\n",
       "    </tr>\n",
       "    <tr>\n",
       "      <th>73</th>\n",
       "      <td>91</td>\n",
       "      <td>76 ans - plus</td>\n",
       "      <td>164</td>\n",
       "      <td>2691.19</td>\n",
       "      <td>16.41</td>\n",
       "    </tr>\n",
       "    <tr>\n",
       "      <th>74</th>\n",
       "      <td>92</td>\n",
       "      <td>76 ans - plus</td>\n",
       "      <td>222</td>\n",
       "      <td>3959.24</td>\n",
       "      <td>17.83</td>\n",
       "    </tr>\n",
       "    <tr>\n",
       "      <th>75</th>\n",
       "      <td>93</td>\n",
       "      <td>76 ans - plus</td>\n",
       "      <td>199</td>\n",
       "      <td>3197.08</td>\n",
       "      <td>16.07</td>\n",
       "    </tr>\n",
       "  </tbody>\n",
       "</table>\n",
       "<p>76 rows × 5 columns</p>\n",
       "</div>"
      ],
      "text/plain": [
       "    age     age_groups  purchase_frequency  total_purchase_amount  \\\n",
       "0    18    18 - 25 ans               14769              591414.23   \n",
       "1    19    18 - 25 ans                4238              172831.75   \n",
       "2    20    18 - 25 ans                4468              178799.11   \n",
       "3    21    18 - 25 ans                4161              174347.66   \n",
       "4    22    18 - 25 ans                4299              160576.49   \n",
       "..  ...            ...                 ...                    ...   \n",
       "71   89  76 ans - plus                 315                5089.62   \n",
       "72   90  76 ans - plus                 293                4803.64   \n",
       "73   91  76 ans - plus                 164                2691.19   \n",
       "74   92  76 ans - plus                 222                3959.24   \n",
       "75   93  76 ans - plus                 199                3197.08   \n",
       "\n",
       "    average_basket  \n",
       "0            40.04  \n",
       "1            40.78  \n",
       "2            40.02  \n",
       "3            41.90  \n",
       "4            37.35  \n",
       "..             ...  \n",
       "71           16.16  \n",
       "72           16.39  \n",
       "73           16.41  \n",
       "74           17.83  \n",
       "75           16.07  \n",
       "\n",
       "[76 rows x 5 columns]"
      ]
     },
     "execution_count": 7,
     "metadata": {},
     "output_type": "execute_result"
    }
   ],
   "source": [
    "#lapage_df_b2c group by age and age_groups\n",
    "lapage_df_b2c_age = lapage_df_b2c.groupby([\"age\", \"age_groups\",]).agg({\"id_prod\":\"count\",\"price\":\"sum\"}).reset_index()\n",
    "lapage_df_b2c_age.rename(columns={\"price\":\"total_purchase_amount\", \"id_prod\":\"purchase_frequency\"}, inplace=True)\n",
    "\n",
    "#calculation of \"total purchase amount\", \"purchase frequency\" and \"average basket\" variables for B2C customers\n",
    "lapage_df_b2c_age[\"average_basket\"] = round(lapage_df_b2c_age[\"total_purchase_amount\"] / lapage_df_b2c_age[\"purchase_frequency\"],2)\n",
    "lapage_df_b2c_age[\"purchase_frequency\"].isin(lapage_df_b2c_age[\"age\"]==40)\n",
    "lapage_df_b2c_age\n"
   ]
  },
  {
   "cell_type": "code",
   "execution_count": 8,
   "id": "2d837c70",
   "metadata": {},
   "outputs": [
    {
     "data": {
      "image/png": "[encoded data removed]",
      "text/plain": [
       "<Figure size 960x480 with 2 Axes>"
      ]
     },
     "metadata": {
      "needs_background": "light"
     },
     "output_type": "display_data"
    }
   ],
   "source": [
    "fig = plt.figure(num=None, figsize=(12, 6), dpi=80)\n",
    "mask = np.triu(np.ones_like(lapage_df_b2c_age.corr(), dtype=bool))\n",
    "sns.heatmap(lapage_df_b2c_age.corr(), mask=mask, vmin=-1, vmax=1, annot=True, linewidths=2)\n",
    "plt.savefig(\"Part3 Pearson matrix\", bbox_inches='tight')\n",
    "plt.title(\"Pearson matrix\", fontsize = 15, fontweight='bold');"
   ]
  },
  {
   "cell_type": "markdown",
   "id": "fa27b8d9",
   "metadata": {},
   "source": [
    "<div class=\"alert-success\">\n",
    "    <u>Notice</u> :\n",
    "    <i><li> There seems to be a high degree of negative correlation between the customer's age and their total purchase amount, purchase frequency and average basket respectively</li>\n",
    "</i></div>"
   ]
  },
  {
   "cell_type": "markdown",
   "id": "5a5c629d",
   "metadata": {},
   "source": [
    "<a id='another_cell_i'></a>"
   ]
  },
  {
   "cell_type": "markdown",
   "id": "34f7ff04",
   "metadata": {},
   "source": [
    "#### b. Customers' age vs purchase frequency"
   ]
  },
  {
   "cell_type": "code",
   "execution_count": 9,
   "id": "9de11b5d",
   "metadata": {},
   "outputs": [
    {
     "data": {
      "image/png": "[encoded data removed]",
      "text/plain": [
       "<Figure size 960x480 with 1 Axes>"
      ]
     },
     "metadata": {
      "needs_background": "light"
     },
     "output_type": "display_data"
    }
   ],
   "source": [
    "#scatter plot\n",
    "fig = plt.figure(num=None, figsize=(12, 6), dpi=80)\n",
    "line_kws = {'color' : 'r',}\n",
    "sns.regplot(data=lapage_df_b2c_age[lapage_df_b2c_age[\"age\"] > 18], x= \"age\",y = \"purchase_frequency\", line_kws=line_kws)\n",
    "plt.title(\"Customers' age vs purchase frequency\",fontsize = 12, fontweight='bold')\n",
    "plt.savefig(\"Part3 Customers' age vs purchase frequency\", bbox_inches='tight')\n",
    "plt.show()"
   ]
  },
  {
   "cell_type": "markdown",
   "id": "e6c3cd4e",
   "metadata": {},
   "source": [
    "<div class=\"alert-success\">\n",
    "    <u>Notice</u> :\n",
    "    <i><li> From a general point of view, the frequency of purchases decreases with age</li>\n",
    "</i></div>"
   ]
  },
  {
   "cell_type": "markdown",
   "id": "3a496450",
   "metadata": {},
   "source": [
    " "
   ]
  },
  {
   "cell_type": "markdown",
   "id": "58aaefed",
   "metadata": {},
   "source": [
    "- <b>Shapiro-wilk (normal law) and Spearman tests</b>"
   ]
  },
  {
   "cell_type": "markdown",
   "id": "978880ae",
   "metadata": {},
   "source": [
    "The Shapiro–Wilk test can be used to decide whether or not a sample fits a normal distribution, and it is commonly used for small samples."
   ]
  },
  {
   "cell_type": "markdown",
   "id": "059745c0",
   "metadata": {},
   "source": [
    "<b>Situation</b> : ordinal variable <i>(age)</i> and quantitative variable <i>(frequency of purchases)</i>\n",
    "<br><b>Question</b> : <i>Is the frequency of purchases follow a normal law ?</i></br>\n",
    "<br><b>Tool</b> : shapiro-wilk test"
   ]
  },
  {
   "cell_type": "code",
   "execution_count": 10,
   "id": "d18f1d62",
   "metadata": {},
   "outputs": [
    {
     "name": "stdout",
     "output_type": "stream",
     "text": [
      "==================================================================================================== \n",
      "\n",
      "Shapiro-Wilk test\n",
      "The null hypothesis is rejected \t ==> The variable does not follow a normal law\n",
      "\n",
      "==================================================================================================== \n",
      "\n",
      "==================================================================================================== \n",
      "\n",
      "Shapiro-Wilk test\n",
      "The null hypothesis is rejected \t ==> The variable does not follow a normal law\n",
      "\n",
      "==================================================================================================== \n",
      "\n"
     ]
    }
   ],
   "source": [
    "#shapiro test\n",
    "shapiro_test(lapage_df_b2c_age[\"purchase_frequency\"])\n",
    "shapiro_test(lapage_df_b2c_age[\"age\"])"
   ]
  },
  {
   "cell_type": "markdown",
   "id": "2675b606",
   "metadata": {},
   "source": [
    "<div class=\"alert-danger\">\n",
    "    <u>Notice</u> :\n",
    "    <i><li> The frequency of purchase and the customers' age do not follow a normal law → Spearman test</li>\n",
    "</i></div>"
   ]
  },
  {
   "cell_type": "markdown",
   "id": "649cf155",
   "metadata": {},
   "source": [
    "Spearman correlation is often used to evaluate relationships involving ordinal variables."
   ]
  },
  {
   "cell_type": "code",
   "execution_count": 11,
   "id": "9984306e",
   "metadata": {},
   "outputs": [
    {
     "name": "stdout",
     "output_type": "stream",
     "text": [
      "==================================================================================================== \n",
      "\n",
      "Test of Independence (Spearman's Test)\n",
      "\n",
      "Spearman coeff = -0.6737935748462065\n",
      "Spearman pvalue = 2.5520940213877932e-11\n",
      "\n",
      "Variables exhibit a significantly high negative correlation\n"
     ]
    }
   ],
   "source": [
    "#spearman test\n",
    "spearman_test(lapage_df_b2c_age[\"age\"],lapage_df_b2c_age[\"purchase_frequency\"])"
   ]
  },
  {
   "cell_type": "markdown",
   "id": "112d1bd2",
   "metadata": {},
   "source": [
    "<div class=\"alert-success\">\n",
    "    <u>Notice</u> :\n",
    "    <i><li> Customers' age and their purchase frequency are negatively correlated, which means here : the older the customer, the less frequently he buys</li>\n",
    "</i></div>"
   ]
  },
  {
   "cell_type": "markdown",
   "id": "98bf786b",
   "metadata": {},
   "source": [
    "<a id='another_cell_j'></a>"
   ]
  },
  {
   "cell_type": "markdown",
   "id": "6b8a6323",
   "metadata": {},
   "source": [
    "#### c. Customers' age vs total purchase amount"
   ]
  },
  {
   "cell_type": "code",
   "execution_count": 12,
   "id": "669f3f3d",
   "metadata": {},
   "outputs": [
    {
     "data": {
      "image/png": "[encoded data removed]",
      "text/plain": [
       "<Figure size 960x480 with 1 Axes>"
      ]
     },
     "metadata": {
      "needs_background": "light"
     },
     "output_type": "display_data"
    }
   ],
   "source": [
    "#scatter plot\n",
    "fig = plt.figure(num=None, figsize=(12, 6), dpi=80)\n",
    "line_kws = {'color' : 'r',}\n",
    "sns.regplot(data=lapage_df_b2c_age[lapage_df_b2c_age[\"age\"] > 18], x= \"age\",y = \"total_purchase_amount\", line_kws=line_kws)\n",
    "plt.title(\"Customers' age vs total purchase amount\",fontsize = 12, fontweight='bold')\n",
    "plt.savefig(\"Part3 Customers' age vs total purchase amount\", bbox_inches='tight')\n",
    "plt.show()"
   ]
  },
  {
   "cell_type": "markdown",
   "id": "5f2e540f",
   "metadata": {},
   "source": [
    "<div class=\"alert-success\">\n",
    "    <u>Notice</u> :\n",
    "    <i><li> From a general point of view, the total purchase amount decreases with age (even if it is positive up to 40 years old)</li>\n",
    "</i></div>"
   ]
  },
  {
   "cell_type": "markdown",
   "id": "9f17933d",
   "metadata": {},
   "source": [
    "<b>Situation</b> : ordinal variable <i>(age)</i> and quantitative variable <i>(total purchase amount)</i>\n",
    "<br><b>Question</b> : <i>Is the total purchase amount follow a normal law ?</i></br>\n",
    "<br><b>Tool</b> : shapiro-wilk test"
   ]
  },
  {
   "cell_type": "code",
   "execution_count": 13,
   "id": "c3b7733f",
   "metadata": {},
   "outputs": [
    {
     "name": "stdout",
     "output_type": "stream",
     "text": [
      "==================================================================================================== \n",
      "\n",
      "Shapiro-Wilk test\n",
      "The null hypothesis is rejected \t ==> The variable does not follow a normal law\n",
      "\n",
      "==================================================================================================== \n",
      "\n"
     ]
    }
   ],
   "source": [
    "#shapiro test\n",
    "shapiro_test(lapage_df_b2c_age[\"total_purchase_amount\"])"
   ]
  },
  {
   "cell_type": "markdown",
   "id": "bd94a82d",
   "metadata": {},
   "source": [
    "<div class=\"alert-danger\">\n",
    "    <u>Notice</u> :\n",
    "    <i><li> The total purchase amount do not follow a normal law → Spearman test</li>\n",
    "</i></div>"
   ]
  },
  {
   "cell_type": "code",
   "execution_count": 14,
   "id": "6d6e0a27",
   "metadata": {},
   "outputs": [
    {
     "name": "stdout",
     "output_type": "stream",
     "text": [
      "==================================================================================================== \n",
      "\n",
      "Test of Independence (Spearman's Test)\n",
      "\n",
      "Spearman coeff = -0.8740396445659603\n",
      "Spearman pvalue = 6.668764227215192e-25\n",
      "\n",
      "Variables exhibit a significantly very high negative correlation\n"
     ]
    }
   ],
   "source": [
    "#spearman test\n",
    "spearman_test(lapage_df_b2c_age[\"age\"],lapage_df_b2c_age[\"total_purchase_amount\"])"
   ]
  },
  {
   "cell_type": "markdown",
   "id": "92d4384a",
   "metadata": {},
   "source": [
    "<div class=\"alert-success\">\n",
    "    <u>Notice</u> :\n",
    "    <i><li> Customers' age and their total purchase amount are very negatively correlated, which means here : the older the customer, the less he buys</li>\n",
    "</i></div>"
   ]
  },
  {
   "cell_type": "markdown",
   "id": "95baecbb",
   "metadata": {},
   "source": [
    "<a id='another_cell_k'></a>"
   ]
  },
  {
   "cell_type": "markdown",
   "id": "cd018e38",
   "metadata": {},
   "source": [
    "#### d. Customers' age vs average basket"
   ]
  },
  {
   "cell_type": "code",
   "execution_count": 15,
   "id": "5b8ccba1",
   "metadata": {},
   "outputs": [
    {
     "data": {
      "image/png": "[encoded data removed]",
      "text/plain": [
       "<Figure size 960x480 with 1 Axes>"
      ]
     },
     "metadata": {
      "needs_background": "light"
     },
     "output_type": "display_data"
    }
   ],
   "source": [
    "#scatter plot\n",
    "fig = plt.figure(num=None, figsize=(12, 6), dpi=80)\n",
    "lapage_df_b2c_age[\"clusters\"]= pd.cut(lapage_df_b2c_age[\"age\"], bins=[15,30,50,100], labels=[\"< 30 yo\",\"30 to 50 yo\",\"> 50 yo\"])\n",
    "sns.scatterplot(data=lapage_df_b2c_age, x=\"age\", y=\"average_basket\", hue=\"clusters\")\n",
    "plt.title(\"Customers' age vs average basket\",fontsize = 12, fontweight='bold');"
   ]
  },
  {
   "cell_type": "markdown",
   "id": "0729b333",
   "metadata": {},
   "source": [
    "<div class=\"alert-success\">\n",
    "    <u>Notice</u> :\n",
    "    <br>For customers...</br>\n",
    "    <i><br><li> <b>... under 30 years old</b> : high average basket (more than 35 euros)</br></li>\n",
    "    <i><li> <b>... between 30 and 50 years old</b> : low average basket (less than 15 euros)</li>\n",
    "    <i><li> <b>... over 50 years old</b> : average basket between 15 and 20 euros</li>\n",
    "</i></div>"
   ]
  },
  {
   "cell_type": "markdown",
   "id": "21d2f3a0",
   "metadata": {},
   "source": [
    "<b>Situation</b> : ordinal variable <i>(age)</i> and quantitative variable <i>(average basket)</i>\n",
    "<br><b>Question</b> : <i>Is the average basket follow a normal law ?</i></br>\n",
    "<br><b>Tool</b> : shapiro-wilk test"
   ]
  },
  {
   "cell_type": "code",
   "execution_count": 16,
   "id": "f5807eb8",
   "metadata": {},
   "outputs": [
    {
     "name": "stdout",
     "output_type": "stream",
     "text": [
      "==================================================================================================== \n",
      "\n",
      "Shapiro-Wilk test\n",
      "The null hypothesis is rejected \t ==> The variable does not follow a normal law\n",
      "\n",
      "==================================================================================================== \n",
      "\n"
     ]
    }
   ],
   "source": [
    "#shapiro test\n",
    "shapiro_test(lapage_df_b2c_age[\"average_basket\"])"
   ]
  },
  {
   "cell_type": "markdown",
   "id": "afd6d19b",
   "metadata": {},
   "source": [
    "- <b>The Kolmogorov-Smirnov test</b>"
   ]
  },
  {
   "cell_type": "markdown",
   "id": "ef9f4493",
   "metadata": {},
   "source": [
    "The Kolmogorov–Smirnov statistic quantifies a distance between the empirical distribution functions of two samples."
   ]
  },
  {
   "cell_type": "markdown",
   "id": "87439e97",
   "metadata": {},
   "source": [
    "<b>Question</b> : <i>Do the customers' age and the purchase frequency have the same distribution ?</i>\n",
    "<br><b>Tool</b> : kolmogorov-smirnov test</br>"
   ]
  },
  {
   "cell_type": "code",
   "execution_count": 17,
   "id": "c4123ec8",
   "metadata": {},
   "outputs": [
    {
     "data": {
      "text/plain": [
       "KstestResult(statistic=0.8289473684210527, pvalue=1.1874582768381313e-26)"
      ]
     },
     "execution_count": 17,
     "metadata": {},
     "output_type": "execute_result"
    }
   ],
   "source": [
    "#K-S test\n",
    "from scipy.stats import ks_2samp\n",
    "ks_2samp(lapage_df_b2c_age[\"age\"], lapage_df_b2c_age[\"average_basket\"])"
   ]
  },
  {
   "cell_type": "markdown",
   "id": "f19e8fc0",
   "metadata": {},
   "source": [
    "<div class=\"alert-warning\">\n",
    "    <u>Warning</u> :\n",
    "    <i><li> From the output we can see that the test statistic is 0.8289473684210527 and the corresponding p-value is 1.1874582768381313e-26. Since the p-value is less than .05, we reject the null hypothesis.</li>\n",
    "    <i><li> We have sufficient evidence to say that the two sample datasets do not come from the same distribution.</li>\n",
    "</i></div>"
   ]
  },
  {
   "cell_type": "markdown",
   "id": "85fc21bf",
   "metadata": {},
   "source": [
    "<div class=\"alert-danger\">\n",
    "    <u>Notice</u> :\n",
    "    <i><li> The average basket do not follow a normal law → Spearman test</li>\n",
    "</i></div>"
   ]
  },
  {
   "cell_type": "code",
   "execution_count": 18,
   "id": "a32a410b",
   "metadata": {},
   "outputs": [
    {
     "name": "stdout",
     "output_type": "stream",
     "text": [
      "==================================================================================================== \n",
      "\n",
      "Test of Independence (Spearman's Test)\n",
      "\n",
      "Spearman coeff = -0.08771678004687013\n",
      "Spearman pvalue = 0.45116290359328837\n",
      "\n",
      "The variables have a low significant negligible (or null) negative correlation\n"
     ]
    }
   ],
   "source": [
    "#spearman test\n",
    "spearman_test(lapage_df_b2c_age[\"age\"],lapage_df_b2c_age[\"average_basket\"])"
   ]
  },
  {
   "cell_type": "markdown",
   "id": "7f60fe65",
   "metadata": {},
   "source": [
    "<div class=\"alert-success\">\n",
    "    <u>Notice</u> :\n",
    "    <i><li> The relationship between customers' age and the average basket is not significant</li>\n",
    "</i></div>"
   ]
  },
  {
   "cell_type": "markdown",
   "id": "d8368004",
   "metadata": {},
   "source": [
    "<a id='another_cell_l'></a>"
   ]
  },
  {
   "cell_type": "markdown",
   "id": "f076d0c1",
   "metadata": {},
   "source": [
    "#### e. Customers' age vs category of books purchased"
   ]
  },
  {
   "cell_type": "code",
   "execution_count": 19,
   "id": "cab11a05",
   "metadata": {},
   "outputs": [
    {
     "data": {
      "image/png": "[encoded data removed]",
      "text/plain": [
       "<Figure size 648x288 with 1 Axes>"
      ]
     },
     "metadata": {
      "needs_background": "light"
     },
     "output_type": "display_data"
    }
   ],
   "source": [
    "#box plot\n",
    "plt.figure(figsize=(9,4))\n",
    "palette = ['g','b','r']\n",
    "meanprops={ \"marker\" : \"s\", \"markerfacecolor\" : \"w\"}\n",
    "sns.boxplot(data=lapage_df_b2c, y='categ', x='age', orient='h', showfliers=False, showmeans=True, palette=palette, meanprops=meanprops)\n",
    "plt.title(\"Customers' ages distribution by category of books purchased\")\n",
    "plt.show()"
   ]
  },
  {
   "cell_type": "markdown",
   "id": "dcc97310",
   "metadata": {},
   "source": [
    "<div class=\"alert-success\">\n",
    "    <u>Notice</u> :\n",
    "    <i><br><li> <b>Category 0</b> : Customers aged 18 to 67 years old (with an approximative average age of 45 years old)</br></li>\n",
    "    <i><li> <b>Category 1</b> : Everybody (with an approximative average age of 48 years old)</li>\n",
    "    <i><li> <b>Category 2</b> : Customers aged 18 to 40 years old (with an approximative average age of 27 years old)</li>\n",
    "</i></div>"
   ]
  },
  {
   "cell_type": "markdown",
   "id": "f3be1357",
   "metadata": {},
   "source": [
    " "
   ]
  },
  {
   "cell_type": "markdown",
   "id": "9c6ad338",
   "metadata": {},
   "source": [
    "<b>Situation</b> : qualitative variable <i>(age)</i> vs qualitative variable <i>(category)</i>\n",
    "<br><b>Question</b> : <i>Has the category of books purchased a dependency on the customers age ?</i></br>\n",
    "<br><b>Tools</b> : chi-square test</br>"
   ]
  },
  {
   "cell_type": "code",
   "execution_count": 20,
   "id": "ca55743c",
   "metadata": {},
   "outputs": [
    {
     "name": "stdout",
     "output_type": "stream",
     "text": [
      "==================================================================================================== \n",
      "\n",
      "Independence test between age and category (Chi-square test)\n",
      "\t Null hypothesis H0 : \t \t Preference for a book category does not depend on the customer's age\n",
      "\t Alternative hypothesis H1 : \t Preference for a category depends on the customer's age\n",
      "\n",
      "Le khi-deux est de :  265788.8875687019 \n",
      "\n",
      "La p-value est de : 0.0 \n",
      "\n",
      "The null hypothesis is rejected \t ==> H1: The preference for a category depends on the age of the customer\n"
     ]
    }
   ],
   "source": [
    "#chi-square independence test\n",
    "print(\"=\"*100,\"\\n\")\n",
    "print(\"Independence test between age and category (Chi-square test)\")\n",
    "print(\"\\t Null hypothesis H0 : \\t \\t Preference for a book category does not depend on the customer's age\")\n",
    "print(\"\\t Alternative hypothesis H1 : \\t Preference for a category depends on the customer's age\")\n",
    "print('')\n",
    "\n",
    "#chi-square and p-value calculation\n",
    "X2, Y2 = \"age\", \"categ\"\n",
    "conti2 = lapage_df_b2c[[X2, Y2]].pivot_table(index=X2, columns=Y2, aggfunc=len).fillna(0).copy()\n",
    "st_chi2, st_p, st_dof, st_exp = st.chi2_contingency(conti2)\n",
    "print(\"Le khi-deux est de : \",st_chi2,\"\\n\")\n",
    "print(\"La p-value est de :\",st_p,\"\\n\")\n",
    "\n",
    "if st_p < 0.05:\n",
    "    print(\"The null hypothesis is rejected \\t ==> H1: The preference for a category depends on the age of the customer\")\n",
    "else:\n",
    "    print(\"We cannot reject the null hypothesis H0 (The preference for a category of book does not depend on the age of the customer\")"
   ]
  },
  {
   "cell_type": "markdown",
   "id": "33d951cb",
   "metadata": {},
   "source": [
    "<div class=\"alert-success\">\n",
    "    <u>Notice</u> :\n",
    "    <i><li> For α = 5%, the category of books purchased has a depedency on the customers age</li>\n",
    "</i></div>"
   ]
  },
  {
   "cell_type": "markdown",
   "id": "611b6f91",
   "metadata": {},
   "source": [
    "<a id='another_cell_m'></a>"
   ]
  },
  {
   "cell_type": "markdown",
   "id": "cb2a41b6",
   "metadata": {},
   "source": [
    "### Conclusion (part 3) "
   ]
  },
  {
   "cell_type": "markdown",
   "id": "a3bcd103",
   "metadata": {},
   "source": [
    "<div class=\"alert-success\">\n",
    "<b>Relationship between customer's gender and purchase category :</b>\n",
    "    <i><li> Woman as men prefer respectively categories 0, 1 and 2 at last</li>\n",
    "    <li> Women consume a little more than men on the 3 categories of products</li>\n",
    "    <li> For α = 5%, the customers gender has a dependency on the category of books purchased</li></i>\n",
    "             \n",
    "<b>Relationship between customers' age vs purchase frequency :</b>\n",
    "    <i><li> From a general point of view, the frequency of purchases decreases with age</li>\n",
    "    <li> The frequency of purchase and the customers' age do not follow a normal law</li>\n",
    "    <li> Customers' age and their purchase frequency are negatively correlated, which means here : the older the customer, the less frequently he buys</li></i>\n",
    "\n",
    "<b>Relationship between customers' age vs total purchase amount :</b>\n",
    "    <i><li> From a general point of view, the total purchase amount decreases with age (even if it is positive up to 40 years old)</li>\n",
    "    <li> The total purchase amount do not follow a normal law</li>\n",
    "    <li> Customers' age and their total purchase amount are very negatively correlated, which means here : the older the customer, the less he buys</li></i>\n",
    "\n",
    "<b>Relationship between customers' age vs average basket :</b>\n",
    "    <i><li> We have sufficient evidence to say that the two sample datasets do not come from the same distribution.</li>\n",
    "    <li> The average basket do not follow a normal law</li>\n",
    "    <li> The relationship between customers' age and the average basket is not significant</li></i>\n",
    "\n",
    "<b>Relationship between customers' age vs category of books purchased :</b>\n",
    "    <i><li> For α = 5%, the category of books purchased has a depedency on the customers age</li></i>\n",
    "</div>"
   ]
  },
  {
   "cell_type": "markdown",
   "id": "55517c06",
   "metadata": {},
   "source": [
    " "
   ]
  },
  {
   "cell_type": "markdown",
   "id": "ab25908d",
   "metadata": {},
   "source": [
    " "
   ]
  },
  {
   "cell_type": "markdown",
   "id": "dc32a77a",
   "metadata": {},
   "source": [
    " <a id='another_cell_j'></a>"
   ]
  }
 ],
 "metadata": {
  "kernelspec": {
   "display_name": "Python 3",
   "language": "python",
   "name": "python3"
  },
  "language_info": {
   "codemirror_mode": {
    "name": "ipython",
    "version": 3
   },
   "file_extension": ".py",
   "mimetype": "text/x-python",
   "name": "python",
   "nbconvert_exporter": "python",
   "pygments_lexer": "ipython3",
   "version": "3.8.8"
  }
 },
 "nbformat": 4,
 "nbformat_minor": 5
}
